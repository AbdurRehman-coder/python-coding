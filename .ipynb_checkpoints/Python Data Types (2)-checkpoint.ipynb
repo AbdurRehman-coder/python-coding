{
 "cells": [
  {
   "cell_type": "markdown",
   "id": "4561bcc4",
   "metadata": {},
   "source": [
    "# Python Data Types"
   ]
  },
  {
   "cell_type": "raw",
   "id": "6928e08f",
   "metadata": {},
   "source": [
    "1) Numeric \n",
    "    i) integer\n",
    "    ii) floating point\n",
    "    iii) complex numbers\n",
    "2) Strings\n",
    "    i) Concatenation\n",
    "    ii) Slicing\n",
    "    iii) Repetition\n",
    "3) Tuple\n",
    "4) List\n",
    "5) Set\n",
    "6) Dictionary\n"
   ]
  },
  {
   "cell_type": "markdown",
   "id": "cb739485",
   "metadata": {},
   "source": [
    "# 1) Numeric"
   ]
  },
  {
   "cell_type": "markdown",
   "id": "2efa6e4a",
   "metadata": {},
   "source": [
    "   ### i) Integer"
   ]
  },
  {
   "cell_type": "markdown",
   "id": "7adc5ee3",
   "metadata": {},
   "source": [
    "* An integer is a non fraction number that can be positve, negative and zero.\n",
    "* In python language integer is represented as a data type 'int'\n",
    "* there is no limit on how long the integer value is\n",
    "\n",
    "  * int class tells the program that the given information/data is in integer from and act accordingly \n",
    "        *FOR EXAMPLE 'int' SHOWS THAT WE CAN PERFOM NUMERIC OPERATIONS ON THIS DATA, \n",
    "        *NUMERIC OPERATION COULD BE +, -, x, OR /"
   ]
  },
  {
   "cell_type": "code",
   "execution_count": null,
   "id": "6182d1a8",
   "metadata": {},
   "outputs": [],
   "source": [
    "print(124)"
   ]
  },
  {
   "cell_type": "code",
   "execution_count": null,
   "id": "2f79d93e",
   "metadata": {},
   "outputs": [],
   "source": [
    "print(193898938493974)"
   ]
  },
  {
   "cell_type": "code",
   "execution_count": null,
   "id": "a2cc17b2",
   "metadata": {},
   "outputs": [],
   "source": [
    "print(10000000000000 + 124)"
   ]
  },
  {
   "cell_type": "code",
   "execution_count": null,
   "id": "b4a2b84e",
   "metadata": {},
   "outputs": [],
   "source": [
    "print(1000000000000000000000000000000000000000000000000000000000000000000000000000000 + 1)"
   ]
  },
  {
   "cell_type": "code",
   "execution_count": null,
   "id": "0dd17f45",
   "metadata": {},
   "outputs": [],
   "source": [
    "type(10)"
   ]
  },
  {
   "cell_type": "markdown",
   "id": "1afd0ea5",
   "metadata": {},
   "source": [
    "* In Python Integers are represented by **'int'** class"
   ]
  },
  {
   "cell_type": "markdown",
   "id": "03e3f7a2",
   "metadata": {},
   "source": [
    "* Python can handle a platheora of integers (ofcourse it depends on the system memory)"
   ]
  },
  {
   "cell_type": "markdown",
   "id": "d29a39d5",
   "metadata": {},
   "source": [
    "### ii) Floating Point Numbers"
   ]
  },
  {
   "cell_type": "markdown",
   "id": "7ee72b49",
   "metadata": {},
   "source": [
    "****A float or floating point is a number with a decimal point****\n",
    "   * **Examples include 1.22,0.100,-9.8, -.19.98, 0.000001345 etc**\n",
    "   * **float tells the program that a given piece of information belongs to 'float' class and it has values with decimal point**\n",
    "   \n",
    "**Very small or very large values are often represented in scientific notation (e or E)**"
   ]
  },
  {
   "cell_type": "code",
   "execution_count": null,
   "id": "eefa880a",
   "metadata": {},
   "outputs": [],
   "source": [
    "print(1.29)"
   ]
  },
  {
   "cell_type": "code",
   "execution_count": null,
   "id": "bbacef02",
   "metadata": {},
   "outputs": [],
   "source": [
    "print(-11.98)"
   ]
  },
  {
   "cell_type": "code",
   "execution_count": null,
   "id": "036789ea",
   "metadata": {},
   "outputs": [],
   "source": [
    "print(-0.99924)"
   ]
  },
  {
   "cell_type": "code",
   "execution_count": null,
   "id": "0ecc86f9",
   "metadata": {},
   "outputs": [],
   "source": [
    "print(0.123 - 0.0134)"
   ]
  },
  {
   "cell_type": "code",
   "execution_count": null,
   "id": "aa39608a",
   "metadata": {},
   "outputs": [],
   "source": [
    "print(0.08984932481098091858798259138401924097859822034839418388798798347242439847 + 1)"
   ]
  },
  {
   "cell_type": "code",
   "execution_count": null,
   "id": "231c32ca",
   "metadata": {},
   "outputs": [],
   "source": [
    "print(1.2e8)"
   ]
  },
  {
   "cell_type": "code",
   "execution_count": null,
   "id": "42b4c16b",
   "metadata": {},
   "outputs": [],
   "source": [
    "print(0.000000000000901920981821)"
   ]
  },
  {
   "cell_type": "code",
   "execution_count": null,
   "id": "8f61093f",
   "metadata": {},
   "outputs": [],
   "source": [
    "print(1.2e-3)"
   ]
  },
  {
   "cell_type": "code",
   "execution_count": null,
   "id": "de91f511",
   "metadata": {},
   "outputs": [],
   "source": [
    "print(0.000000000000000000167)  # Charge on an electron/proton "
   ]
  },
  {
   "cell_type": "code",
   "execution_count": null,
   "id": "833cbd77",
   "metadata": {},
   "outputs": [],
   "source": [
    "print(3e8)                     # Speed of light"
   ]
  },
  {
   "cell_type": "code",
   "execution_count": null,
   "id": "a825c453",
   "metadata": {},
   "outputs": [],
   "source": [
    "type(3.1415)"
   ]
  },
  {
   "cell_type": "markdown",
   "id": "462eb6dd",
   "metadata": {},
   "source": [
    "**In Python floating point numbers are represented by the class 'float'**"
   ]
  },
  {
   "cell_type": "markdown",
   "id": "5eca23bc",
   "metadata": {},
   "source": [
    "### iii) Complex Number"
   ]
  },
  {
   "cell_type": "markdown",
   "id": "1756c7e0",
   "metadata": {},
   "source": [
    "****Complex numbers are numbers that contain both real part and imaginary part****\n",
    "* **Examples include 8+3j where 8 is a real part and 3j is an imaginary part**\n",
    "* **Other examples include 1-5j, -1-2j, -23+33j etc**"
   ]
  },
  {
   "cell_type": "code",
   "execution_count": null,
   "id": "f1e011e7",
   "metadata": {},
   "outputs": [],
   "source": [
    "print(8+3j)"
   ]
  },
  {
   "cell_type": "code",
   "execution_count": null,
   "id": "1e953022",
   "metadata": {},
   "outputs": [],
   "source": [
    "print(1-5j)"
   ]
  },
  {
   "cell_type": "code",
   "execution_count": null,
   "id": "bba94e81",
   "metadata": {},
   "outputs": [],
   "source": [
    "print(-1-2j)"
   ]
  },
  {
   "cell_type": "code",
   "execution_count": null,
   "id": "4386a306",
   "metadata": {},
   "outputs": [],
   "source": [
    "print(-23+33j)"
   ]
  },
  {
   "cell_type": "code",
   "execution_count": null,
   "id": "fac636ff",
   "metadata": {},
   "outputs": [],
   "source": [
    "type(8+3j)"
   ]
  },
  {
   "cell_type": "markdown",
   "id": "b3a287dc",
   "metadata": {},
   "source": [
    "* In python complex numbers are represented by the class 'complex' as shown above"
   ]
  },
  {
   "cell_type": "markdown",
   "id": "7ad9fb30",
   "metadata": {},
   "source": [
    "## 2) String"
   ]
  },
  {
   "attachments": {
    "string_example.webp": {
     "image/webp": "[encoded data removed]"
    }
   },
   "cell_type": "markdown",
   "id": "c6718a03",
   "metadata": {},
   "source": [
    "![string_example.webp](attachment:string_example.webp)"
   ]
  },
  {
   "cell_type": "markdown",
   "id": "3bec3520",
   "metadata": {},
   "source": [
    "****String is a data type used to represent text data****\n",
    "                    * OR *\n",
    "* **We can say it is a sequence of characters**\n",
    "\n",
    "\n",
    "* ***There can be one or more characters in a string with signle quotation, double quotation and even triple quotation marks***\n",
    "\n"
   ]
  },
  {
   "cell_type": "code",
   "execution_count": null,
   "id": "1f41baa4",
   "metadata": {},
   "outputs": [],
   "source": [
    "print('a')"
   ]
  },
  {
   "cell_type": "code",
   "execution_count": null,
   "id": "d3ed374e",
   "metadata": {},
   "outputs": [],
   "source": [
    "print(\"a\")"
   ]
  },
  {
   "cell_type": "code",
   "execution_count": null,
   "id": "d20e962a",
   "metadata": {},
   "outputs": [],
   "source": [
    "print('''a''')"
   ]
  },
  {
   "cell_type": "code",
   "execution_count": null,
   "id": "24e271d3",
   "metadata": {},
   "outputs": [],
   "source": [
    "print(\"Hello Class!\")"
   ]
  },
  {
   "cell_type": "code",
   "execution_count": null,
   "id": "ba7f330c",
   "metadata": {},
   "outputs": [],
   "source": [
    "print('My name is Sahibzada Salman, and I am your Artificial Intelligence instructor')"
   ]
  },
  {
   "cell_type": "code",
   "execution_count": null,
   "id": "6ec6b716",
   "metadata": {},
   "outputs": [],
   "source": [
    "print('''So this is what a string is, it is a sequence of characters under the quotation marks. The characters can be anything ranging from simple letters to some strange looking charaters like / or  * or & or ^ or % etc''')"
   ]
  },
  {
   "cell_type": "code",
   "execution_count": null,
   "id": "46cfc9f2",
   "metadata": {},
   "outputs": [],
   "source": [
    "type('This is a string class :)')"
   ]
  },
  {
   "cell_type": "markdown",
   "id": "451d7c8e",
   "metadata": {},
   "source": [
    "* **In Python, the string is repsented by a class 'str'**\n",
    "\n",
    "* **Strings are IMMUTABLE means we cannot change the items in a string**"
   ]
  },
  {
   "cell_type": "markdown",
   "id": "f85f9b48",
   "metadata": {},
   "source": [
    "#### Operations in String"
   ]
  },
  {
   "cell_type": "markdown",
   "id": "89cc23fe",
   "metadata": {},
   "source": [
    "##### We can Perform Concatenation, Slicing and Repetition in Strings "
   ]
  },
  {
   "cell_type": "markdown",
   "id": "ddf9812d",
   "metadata": {},
   "source": [
    "#### i) Concatenation"
   ]
  },
  {
   "cell_type": "markdown",
   "id": "2c3793a8",
   "metadata": {},
   "source": [
    "* **Concatenation means joing two strings together**\n",
    "\n",
    "* *let's conocatenate two different strings together* "
   ]
  },
  {
   "cell_type": "code",
   "execution_count": null,
   "id": "423cc652",
   "metadata": {},
   "outputs": [],
   "source": [
    "print('Hello Class, ' + 'this is an example of concatenation in strings!')"
   ]
  },
  {
   "cell_type": "code",
   "execution_count": null,
   "id": "157ac282",
   "metadata": {},
   "outputs": [],
   "source": [
    "print('So, basically we are ' + 'just adding two different strings here using a \"+\" operator')"
   ]
  },
  {
   "cell_type": "code",
   "execution_count": null,
   "id": "02239dac",
   "metadata": {},
   "outputs": [],
   "source": [
    "print('Hello '  +  'World!')"
   ]
  },
  {
   "cell_type": "markdown",
   "id": "bb6fc43f",
   "metadata": {},
   "source": [
    "**This is how you can join two different strings**"
   ]
  },
  {
   "cell_type": "markdown",
   "id": "309b5164",
   "metadata": {},
   "source": [
    "#### ii) Slicing "
   ]
  },
  {
   "cell_type": "markdown",
   "id": "f7043b6d",
   "metadata": {},
   "source": [
    "**Slicing means cutting a string into different parts**\n",
    "\n",
    "   **OR**\n",
    "     \n",
    "**Extracting different parts of a string**"
   ]
  },
  {
   "cell_type": "code",
   "execution_count": null,
   "id": "fb524bfe",
   "metadata": {
    "scrolled": true
   },
   "outputs": [],
   "source": [
    "print('LANGUAGE')"
   ]
  },
  {
   "cell_type": "markdown",
   "id": "36e42e11",
   "metadata": {},
   "source": [
    "* *There are 8 different characters in this word*\n",
    "* *So let's extract the 3rd, 4th and the 5th letter from the string which are N, G and U*"
   ]
  },
  {
   "cell_type": "code",
   "execution_count": null,
   "id": "26094a8d",
   "metadata": {},
   "outputs": [],
   "source": [
    "print('LANGUAGE'[2:5])"
   ]
  },
  {
   "cell_type": "markdown",
   "id": "d188e5e2",
   "metadata": {},
   "source": [
    "#####  You Must Be Wondering Why Did We Selected The Range From [2:5], While We Wanted To Select The 3rd, 4th And The 5th Letter? It Should Have Been From [3:5]?"
   ]
  },
  {
   "cell_type": "markdown",
   "id": "3470dfda",
   "metadata": {},
   "source": [
    "**ANS:** **Because in Python the indexing starts from 0**\n",
    "\n",
    "*or*\n",
    "\n",
    "**We Can Say that Python Starts its counting from '0' not '1' :)**"
   ]
  },
  {
   "cell_type": "code",
   "execution_count": null,
   "id": "e522caee",
   "metadata": {},
   "outputs": [],
   "source": [
    "print('LANGUAGE'[0])"
   ]
  },
  {
   "cell_type": "code",
   "execution_count": null,
   "id": "c2cd69d6",
   "metadata": {},
   "outputs": [],
   "source": [
    "print('LANGUAGE'[1])"
   ]
  },
  {
   "cell_type": "code",
   "execution_count": null,
   "id": "ca4d1c3c",
   "metadata": {},
   "outputs": [],
   "source": [
    "print('LANGUAGE'[2])"
   ]
  },
  {
   "cell_type": "code",
   "execution_count": null,
   "id": "1dacd7d5",
   "metadata": {},
   "outputs": [],
   "source": [
    "print('LANGUAGE'[3])"
   ]
  },
  {
   "cell_type": "code",
   "execution_count": null,
   "id": "4bd271fd",
   "metadata": {},
   "outputs": [],
   "source": [
    "print('LANGUAGE'[4])"
   ]
  },
  {
   "cell_type": "code",
   "execution_count": null,
   "id": "3e2b970e",
   "metadata": {},
   "outputs": [],
   "source": [
    "print('LANGUAGE'[5])"
   ]
  },
  {
   "cell_type": "code",
   "execution_count": null,
   "id": "d7585c65",
   "metadata": {},
   "outputs": [],
   "source": [
    "print('LANGUAGE'[6])"
   ]
  },
  {
   "cell_type": "code",
   "execution_count": null,
   "id": "6d8fbb0f",
   "metadata": {},
   "outputs": [],
   "source": [
    "print('LANGUAGE'[7])"
   ]
  },
  {
   "cell_type": "markdown",
   "id": "de1edc59",
   "metadata": {},
   "source": [
    "**There are 8 characters in this string, but the last character is on no 7 position, becuase python starts counting from 0**"
   ]
  },
  {
   "cell_type": "markdown",
   "id": "3212eddf",
   "metadata": {},
   "source": [
    "#####  iii) Repetition"
   ]
  },
  {
   "cell_type": "markdown",
   "id": "157638fc",
   "metadata": {},
   "source": [
    "**Repetition means repeating a sequence or a string a certain number of times**"
   ]
  },
  {
   "cell_type": "code",
   "execution_count": null,
   "id": "0b8bccc5",
   "metadata": {},
   "outputs": [],
   "source": [
    "print('GO '*2)"
   ]
  },
  {
   "cell_type": "code",
   "execution_count": null,
   "id": "9705e8d0",
   "metadata": {},
   "outputs": [],
   "source": [
    "print('GO '*4)"
   ]
  },
  {
   "cell_type": "code",
   "execution_count": null,
   "id": "77049b3c",
   "metadata": {},
   "outputs": [],
   "source": [
    "print('Hey '*5)"
   ]
  },
  {
   "cell_type": "code",
   "execution_count": null,
   "id": "912f574e",
   "metadata": {
    "scrolled": true
   },
   "outputs": [],
   "source": [
    "print('etc. '*10)"
   ]
  },
  {
   "cell_type": "markdown",
   "id": "9358f0de",
   "metadata": {},
   "source": [
    "#### Including a special character as a part of string ?"
   ]
  },
  {
   "cell_type": "markdown",
   "id": "753b75fd",
   "metadata": {},
   "source": [
    "##### "
   ]
  },
  {
   "cell_type": "markdown",
   "id": "888eb982",
   "metadata": {},
   "source": [
    "let's try this one example "
   ]
  },
  {
   "cell_type": "code",
   "execution_count": 2,
   "id": "03c8a3b0",
   "metadata": {},
   "outputs": [
    {
     "ename": "SyntaxError",
     "evalue": "invalid syntax (<ipython-input-2-72027c80da4f>, line 1)",
     "output_type": "error",
     "traceback": [
      "\u001b[1;36m  File \u001b[1;32m\"<ipython-input-2-72027c80da4f>\"\u001b[1;36m, line \u001b[1;32m1\u001b[0m\n\u001b[1;33m    print('including a special character i.e single quote (') in this example.')\u001b[0m\n\u001b[1;37m                                                                      ^\u001b[0m\n\u001b[1;31mSyntaxError\u001b[0m\u001b[1;31m:\u001b[0m invalid syntax\n"
     ]
    }
   ],
   "source": [
    "print('including a special character i.e single quote (') in this example.')"
   ]
  },
  {
   "cell_type": "markdown",
   "id": "08e54777",
   "metadata": {},
   "source": [
    "****Can any one explain why Python gave an error when we tried to include a quotation mark in our string?****"
   ]
  },
  {
   "cell_type": "markdown",
   "id": "ab450b46",
   "metadata": {},
   "source": [
    "**There are 2 methods to tackle this error** "
   ]
  },
  {
   "cell_type": "markdown",
   "id": "ed612918",
   "metadata": {},
   "source": [
    "#### a) Delimit the string with the other type, for example if you want to include a signle quote in your string, delimit it with double quotes and vice versa"
   ]
  },
  {
   "cell_type": "code",
   "execution_count": 3,
   "id": "019e9b8d",
   "metadata": {},
   "outputs": [
    {
     "name": "stdout",
     "output_type": "stream",
     "text": [
      "including a special character i.e signle quote (') in this example.  :p\n"
     ]
    }
   ],
   "source": [
    "print(\"including a special character i.e signle quote (') in this example.  :p\")"
   ]
  },
  {
   "cell_type": "code",
   "execution_count": 4,
   "id": "3d3318b7",
   "metadata": {},
   "outputs": [
    {
     "name": "stdout",
     "output_type": "stream",
     "text": [
      "including a special character i.e double character (\") in this example. :p\n"
     ]
    }
   ],
   "source": [
    "print('including a special character i.e double character (\") in this example. :p')"
   ]
  },
  {
   "cell_type": "markdown",
   "id": "d24cdb37",
   "metadata": {},
   "source": [
    "#### b) Escape Sequences in the strings "
   ]
  },
  {
   "cell_type": "markdown",
   "id": "6256f7e1",
   "metadata": {},
   "source": [
    "****Escape sequences are used to suppress the meaning of special characters****"
   ]
  },
  {
   "cell_type": "markdown",
   "id": "352aeb05",
   "metadata": {},
   "source": [
    "* **For example, signle quote (') has a special meaning in python as they are used to define strings, In previous example we wanted to include a single quote as a part of our string but the Python gave error why? because in that sentence signle quote has a special meaning which is 'it terminates the string'**\n",
    "\n",
    "* That's why we use escape sequences as they suppress/bypass the special meaning of that character\n",
    "\n",
    "**In Python we use (\\\\) backslash in front of the quote character in a string to supress its special meaning**"
   ]
  },
  {
   "cell_type": "code",
   "execution_count": 6,
   "id": "427e25c2",
   "metadata": {},
   "outputs": [
    {
     "ename": "SyntaxError",
     "evalue": "invalid syntax (<ipython-input-6-de3a1e18e991>, line 1)",
     "output_type": "error",
     "traceback": [
      "\u001b[1;36m  File \u001b[1;32m\"<ipython-input-6-de3a1e18e991>\"\u001b[1;36m, line \u001b[1;32m1\u001b[0m\n\u001b[1;33m    print('including a special character i.e single quote (') in this example.')\u001b[0m\n\u001b[1;37m                                                                      ^\u001b[0m\n\u001b[1;31mSyntaxError\u001b[0m\u001b[1;31m:\u001b[0m invalid syntax\n"
     ]
    }
   ],
   "source": [
    "print('including a special character i.e single quote (') in this example.')"
   ]
  },
  {
   "cell_type": "code",
   "execution_count": 7,
   "id": "e1baf885",
   "metadata": {},
   "outputs": [
    {
     "name": "stdout",
     "output_type": "stream",
     "text": [
      "including a special character i.e single quote (') in this example.\n"
     ]
    }
   ],
   "source": [
    "print('including a special character i.e single quote (\\') in this example.')"
   ]
  },
  {
   "cell_type": "code",
   "execution_count": 8,
   "id": "4d24b169",
   "metadata": {},
   "outputs": [
    {
     "name": "stdout",
     "output_type": "stream",
     "text": [
      "including a special character i.e single quote (\") in this example.\n"
     ]
    }
   ],
   "source": [
    "print('including a special character i.e single quote (\\') in this example.')"
   ]
  },
  {
   "cell_type": "markdown",
   "id": "c3f1db0d",
   "metadata": {},
   "source": [
    "*****Other escape sequences are*****\n",
    "* **\\\\' ----> suppress signle quote and considers it as a part of the string**\n",
    "* **\\\\\" ----> suppress double quote and considers it as a part of the string**\n",
    "* **\\ ----> Ignores the new line**\n",
    "* **\\\\t ----> used to add tab space**\n",
    "* **\\\\\\ ----> for single backlash**"
   ]
  },
  {
   "cell_type": "markdown",
   "id": "e01a8181",
   "metadata": {},
   "source": [
    "****let's see an example of each****"
   ]
  },
  {
   "cell_type": "code",
   "execution_count": null,
   "id": "f09e8a17",
   "metadata": {},
   "outputs": [],
   "source": [
    "print('including a special character i.e single quote (\\') in this example.')"
   ]
  },
  {
   "cell_type": "code",
   "execution_count": null,
   "id": "c9c127b3",
   "metadata": {},
   "outputs": [],
   "source": [
    "print('including a special character i.e single quote (\\') in this example.')"
   ]
  },
  {
   "cell_type": "code",
   "execution_count": 21,
   "id": "39f27a98",
   "metadata": {},
   "outputs": [
    {
     "name": "stdout",
     "output_type": "stream",
     "text": [
      "This is an example of using escape sequence for ignoring new lines\n"
     ]
    }
   ],
   "source": [
    "print('This \\\n",
    "is \\\n",
    "an \\\n",
    "example \\\n",
    "of \\\n",
    "using \\\n",
    "escape \\\n",
    "sequence \\\n",
    "for \\\n",
    "ignoring \\\n",
    "new \\\n",
    "lines')"
   ]
  },
  {
   "cell_type": "code",
   "execution_count": 22,
   "id": "a08a7966",
   "metadata": {},
   "outputs": [
    {
     "name": "stdout",
     "output_type": "stream",
     "text": [
      "In order to ignore a escape character we have add another escape character :p Like in this example I used double backlashes (\\) in order to add single backlash\n"
     ]
    }
   ],
   "source": [
    "print('In order to ignore a escape character we have add another escape character :p Like in this example I used double backlashes (\\\\) in order to add single backlash')`"
   ]
  },
  {
   "cell_type": "code",
   "execution_count": 24,
   "id": "630cba13",
   "metadata": {},
   "outputs": [
    {
     "name": "stdout",
     "output_type": "stream",
     "text": [
      "a\\b\n"
     ]
    }
   ],
   "source": [
    "print('a\\\\b')"
   ]
  },
  {
   "cell_type": "code",
   "execution_count": 25,
   "id": "138e8f1c",
   "metadata": {},
   "outputs": [
    {
     "name": "stdout",
     "output_type": "stream",
     "text": [
      "break\\fast\n"
     ]
    }
   ],
   "source": [
    "print('break\\\\fast')"
   ]
  },
  {
   "cell_type": "code",
   "execution_count": 27,
   "id": "02d3265b",
   "metadata": {},
   "outputs": [
    {
     "name": "stdout",
     "output_type": "stream",
     "text": [
      "a\tb\n"
     ]
    }
   ],
   "source": [
    "print('a')"
   ]
  },
  {
   "cell_type": "code",
   "execution_count": 26,
   "id": "36e72894",
   "metadata": {},
   "outputs": [
    {
     "name": "stdout",
     "output_type": "stream",
     "text": [
      "break \t fast\n"
     ]
    }
   ],
   "source": [
    "print('break\\tfast')"
   ]
  },
  {
   "cell_type": "code",
   "execution_count": 39,
   "id": "d4cebd68",
   "metadata": {},
   "outputs": [
    {
     "name": "stdout",
     "output_type": "stream",
     "text": [
      "Hello\n",
      " \n"
     ]
    }
   ],
   "source": [
    "b = \"Hello, World!\"\n",
    "print(b[:5])\n",
    "\n",
    "c = \"Hello, World!\"\n",
    "print(c[6])"
   ]
  },
  {
   "cell_type": "markdown",
   "id": "e0564bba",
   "metadata": {},
   "source": [
    "****Task No1****"
   ]
  },
  {
   "cell_type": "markdown",
   "id": "ce95813f",
   "metadata": {},
   "source": [
    "## 3) List  "
   ]
  },
  {
   "attachments": {
    "python-list-index.png": {
     "image/png": "[encoded data removed]"
    }
   },
   "cell_type": "markdown",
   "id": "325f2a85",
   "metadata": {},
   "source": [
    "![python-list-index.png](attachment:python-list-index.png)"
   ]
  },
  {
   "cell_type": "markdown",
   "id": "d2c8d5c7",
   "metadata": {},
   "source": [
    "**List is a collection of different elements or items inside square brackets '[This, is, a, list, :)]' separated by commas**\n",
    "\n",
    "**A list can have elements of the same data type or even elemets of different types for example, a signle list can have integers, float and string items**\n",
    "\n",
    "**List  **"
   ]
  },
  {
   "cell_type": "code",
   "execution_count": null,
   "id": "2718ca0e",
   "metadata": {},
   "outputs": [],
   "source": [
    "print([1,2,3,4,5,6,7,8,9,10])  # a List of Integers"
   ]
  },
  {
   "cell_type": "code",
   "execution_count": null,
   "id": "fb4934b9",
   "metadata": {},
   "outputs": [],
   "source": [
    "print([1.1,2.2,3.3,4.4,5.5,6.6,7.7,8.8,9.9,10]) # a list of floating point numbers"
   ]
  },
  {
   "cell_type": "code",
   "execution_count": null,
   "id": "dc740ad3",
   "metadata": {},
   "outputs": [],
   "source": [
    "print([1+2j, -1+2j, -1-2j, 1-2j, -3-3j, 5-6j]) # a list of complex numbers "
   ]
  },
  {
   "cell_type": "code",
   "execution_count": null,
   "id": "14cdcddb",
   "metadata": {},
   "outputs": [],
   "source": [
    "print(['This', 'is', 'a', 'string', 'list']) # a list of strings"
   ]
  },
  {
   "cell_type": "code",
   "execution_count": null,
   "id": "65a63892",
   "metadata": {},
   "outputs": [],
   "source": [
    "print([1, 10, 100, 1.2, 2.3, 3.4, 1+1j, 2+2j, 3+3j, 'A list can have a combination of all the data types that we discussed'])"
   ]
  },
  {
   "cell_type": "markdown",
   "id": "380ebdaf",
   "metadata": {},
   "source": [
    "\n",
    "* **A list is MUTABLE, means we can change items in the list by simply using the slicing method (indexing)**\n",
    "\n",
    "* *Let's see an example below*"
   ]
  },
  {
   "cell_type": "code",
   "execution_count": null,
   "id": "abf8b2b0",
   "metadata": {},
   "outputs": [],
   "source": [
    "print([1,2,-3, -4, 2.3, -4.5, 1+3j, 'string'])"
   ]
  },
  {
   "cell_type": "markdown",
   "id": "a70a2626",
   "metadata": {},
   "source": [
    "**There are 8 items in this list, let's access each element one by one**"
   ]
  },
  {
   "cell_type": "code",
   "execution_count": null,
   "id": "0f549775",
   "metadata": {},
   "outputs": [],
   "source": [
    "print([1,2,-3, -4, 2.3, -4.5, 1+3j, 'string'][0])"
   ]
  },
  {
   "cell_type": "code",
   "execution_count": null,
   "id": "c5cb4058",
   "metadata": {},
   "outputs": [],
   "source": [
    "print([1,2,-3, -4, 2.3, -4.5, 1+3j, 'string'][1])"
   ]
  },
  {
   "cell_type": "code",
   "execution_count": null,
   "id": "939fa5fd",
   "metadata": {},
   "outputs": [],
   "source": [
    "print([1,2,-3, -4, 2.3, -4.5, 1+3j, 'string'][2])"
   ]
  },
  {
   "cell_type": "code",
   "execution_count": null,
   "id": "c03f9fd5",
   "metadata": {},
   "outputs": [],
   "source": [
    "print([1,2,-3, -4, 2.3, -4.5, 1+3j, 'string'][3])"
   ]
  },
  {
   "cell_type": "code",
   "execution_count": null,
   "id": "7d98ec5d",
   "metadata": {},
   "outputs": [],
   "source": [
    "print([1,2,-3, -4, 2.3, -4.5, 1+3j, 'string'][4])"
   ]
  },
  {
   "cell_type": "code",
   "execution_count": null,
   "id": "60766a29",
   "metadata": {},
   "outputs": [],
   "source": [
    "print([1,2,-3, -4, 2.3, -4.5, 1+3j, 'string'][5])"
   ]
  },
  {
   "cell_type": "code",
   "execution_count": null,
   "id": "840b36a6",
   "metadata": {},
   "outputs": [],
   "source": [
    "print([1,2,-3, -4, 2.3, -4.5, 1+3j, 'string'][6])"
   ]
  },
  {
   "cell_type": "code",
   "execution_count": null,
   "id": "a246cffc",
   "metadata": {},
   "outputs": [],
   "source": [
    "print([1,2,-3, -4, 2.3, -4.5, 1+3j, 'string'][7])"
   ]
  },
  {
   "cell_type": "markdown",
   "id": "08a7eb95",
   "metadata": {},
   "source": [
    "**Let's access first 3 items at the same time**"
   ]
  },
  {
   "cell_type": "code",
   "execution_count": null,
   "id": "9ef8ac46",
   "metadata": {},
   "outputs": [],
   "source": [
    "print([1,2,-3, -4, 2.3, -4.5, 1+3j, 'string'][0:3]) "
   ]
  },
  {
   "cell_type": "markdown",
   "id": "94639605",
   "metadata": {},
   "source": [
    "**Now, let's access the last 3 items from the list**"
   ]
  },
  {
   "cell_type": "code",
   "execution_count": null,
   "id": "e8cdb09d",
   "metadata": {},
   "outputs": [],
   "source": [
    "print([1,2,-3, -4, 2.3, -4.5, 1+3j, 'string'][4:7])"
   ]
  },
  {
   "cell_type": "markdown",
   "id": "a31c4043",
   "metadata": {},
   "source": [
    "***We can also replace an element in the list***"
   ]
  },
  {
   "cell_type": "code",
   "execution_count": null,
   "id": "79eb3cc6",
   "metadata": {},
   "outputs": [],
   "source": [
    "listt = [1,2,-3, -4, 2.3, -4.5, 1+3j, 'string']\n",
    "print(listt[0:7])"
   ]
  },
  {
   "cell_type": "code",
   "execution_count": null,
   "id": "20161d89",
   "metadata": {},
   "outputs": [],
   "source": [
    "listt[3] = \"replacing the previously placed element (-4) with this sentence :p\"\n",
    "print(listt)"
   ]
  },
  {
   "cell_type": "code",
   "execution_count": null,
   "id": "13af9f49",
   "metadata": {},
   "outputs": [],
   "source": [
    "type(listt)"
   ]
  },
  {
   "cell_type": "code",
   "execution_count": 40,
   "id": "200d27fd",
   "metadata": {},
   "outputs": [
    {
     "name": "stdout",
     "output_type": "stream",
     "text": [
      "['Physics', 'Chemistry', 'Boiology', 'Mathematics']\n"
     ]
    }
   ],
   "source": [
    "lst = ['Physics', 'Chemistry', 'Boiology', 'Mathematics']\n",
    "print(lst)"
   ]
  },
  {
   "cell_type": "markdown",
   "id": "11464891",
   "metadata": {},
   "source": [
    "**Negative Indexing**"
   ]
  },
  {
   "cell_type": "code",
   "execution_count": null,
   "id": "4df7e09e",
   "metadata": {},
   "outputs": [],
   "source": [
    "lst[-1]"
   ]
  },
  {
   "cell_type": "code",
   "execution_count": 42,
   "id": "8c9740cf",
   "metadata": {},
   "outputs": [
    {
     "data": {
      "text/plain": [
       "'Boiology'"
      ]
     },
     "execution_count": 42,
     "metadata": {},
     "output_type": "execute_result"
    }
   ],
   "source": [
    "lst[-2]"
   ]
  },
  {
   "cell_type": "code",
   "execution_count": 43,
   "id": "157bc952",
   "metadata": {},
   "outputs": [
    {
     "data": {
      "text/plain": [
       "'Chemistry'"
      ]
     },
     "execution_count": 43,
     "metadata": {},
     "output_type": "execute_result"
    }
   ],
   "source": [
    "lst[-3]"
   ]
  },
  {
   "cell_type": "markdown",
   "id": "2d2cde92",
   "metadata": {},
   "source": [
    "****If you want to add another item at the end of list we can do that using \".append\" function****"
   ]
  },
  {
   "cell_type": "code",
   "execution_count": 44,
   "id": "65e31e3f",
   "metadata": {},
   "outputs": [
    {
     "data": {
      "text/plain": [
       "['Physics', 'Chemistry', 'Boiology', 'Mathematics', 'English']"
      ]
     },
     "execution_count": 44,
     "metadata": {},
     "output_type": "execute_result"
    }
   ],
   "source": [
    "lst.append('English')\n",
    "lst"
   ]
  },
  {
   "cell_type": "markdown",
   "id": "9f74628a",
   "metadata": {},
   "source": [
    "****What if we want to add an item at a perticular position, what will we do then? We'll use \".insert\" function****"
   ]
  },
  {
   "cell_type": "code",
   "execution_count": 48,
   "id": "6a7c20a6",
   "metadata": {},
   "outputs": [
    {
     "data": {
      "text/plain": [
       "['Physics',\n",
       " 'Chemistry',\n",
       " 'Astronomy',\n",
       " 'Astronomy',\n",
       " 'Boiology',\n",
       " 'Mathematics',\n",
       " 'English']"
      ]
     },
     "execution_count": 48,
     "metadata": {},
     "output_type": "execute_result"
    }
   ],
   "source": [
    "lst.insert(2, 'Astronomy')\n",
    "lst"
   ]
  },
  {
   "cell_type": "markdown",
   "id": "aaaf3ee4",
   "metadata": {},
   "source": [
    "**What if we join two lists together**"
   ]
  },
  {
   "cell_type": "code",
   "execution_count": 49,
   "id": "a2d96c7b",
   "metadata": {},
   "outputs": [
    {
     "name": "stdout",
     "output_type": "stream",
     "text": [
      "['Physics', 'Chemistry', 'Boiology', 'Mathematics']\n",
      "['English', 'Urdu', 'Pak-Studies', 'Islamiyat']\n"
     ]
    }
   ],
   "source": [
    "Science = ['Physics', 'Chemistry', 'Boiology', 'Mathematics']\n",
    "Compuls = ['English', 'Urdu', 'Pak-Studies', 'Islamiyat']\n",
    "print(Science)\n",
    "print(Compuls)"
   ]
  },
  {
   "cell_type": "code",
   "execution_count": 51,
   "id": "b96745fb",
   "metadata": {},
   "outputs": [
    {
     "name": "stdout",
     "output_type": "stream",
     "text": [
      "['Physics', 'Chemistry', 'Boiology', 'Mathematics', 'English', 'Urdu', 'Pak-Studies', 'Islamiyat']\n"
     ]
    }
   ],
   "source": [
    "subjects = Science + Compuls\n",
    "print(subjects)"
   ]
  },
  {
   "cell_type": "markdown",
   "id": "7bbf0dfc",
   "metadata": {},
   "source": [
    "**To find how many items we have in the list**\n",
    "**We use ( len() ) function to determine the length of a list**"
   ]
  },
  {
   "cell_type": "code",
   "execution_count": 53,
   "id": "304dd075",
   "metadata": {},
   "outputs": [
    {
     "name": "stdout",
     "output_type": "stream",
     "text": [
      "4\n",
      "4\n"
     ]
    }
   ],
   "source": [
    "print(len(Science))\n",
    "print(len(Compuls))"
   ]
  },
  {
   "cell_type": "markdown",
   "id": "c0994a67",
   "metadata": {},
   "source": [
    "##### How to find an item in a list?"
   ]
  },
  {
   "cell_type": "markdown",
   "id": "55b8d6bd",
   "metadata": {},
   "source": [
    "***We use item in list method***"
   ]
  },
  {
   "cell_type": "code",
   "execution_count": 54,
   "id": "6002a6fb",
   "metadata": {},
   "outputs": [
    {
     "data": {
      "text/plain": [
       "True"
      ]
     },
     "execution_count": 54,
     "metadata": {},
     "output_type": "execute_result"
    }
   ],
   "source": [
    "'Mathematics' in Science"
   ]
  },
  {
   "cell_type": "code",
   "execution_count": 56,
   "id": "d4e92852",
   "metadata": {},
   "outputs": [
    {
     "data": {
      "text/plain": [
       "True"
      ]
     },
     "execution_count": 56,
     "metadata": {},
     "output_type": "execute_result"
    }
   ],
   "source": [
    "'Islamiyat' in Compuls"
   ]
  },
  {
   "cell_type": "code",
   "execution_count": 57,
   "id": "94ca34eb",
   "metadata": {},
   "outputs": [
    {
     "data": {
      "text/plain": [
       "False"
      ]
     },
     "execution_count": 57,
     "metadata": {},
     "output_type": "execute_result"
    }
   ],
   "source": [
    "'Astronomy' in Science "
   ]
  },
  {
   "cell_type": "code",
   "execution_count": 58,
   "id": "fa98ce79",
   "metadata": {},
   "outputs": [
    {
     "data": {
      "text/plain": [
       "False"
      ]
     },
     "execution_count": 58,
     "metadata": {},
     "output_type": "execute_result"
    }
   ],
   "source": [
    "'Social-Studies' in Compuls"
   ]
  },
  {
   "cell_type": "markdown",
   "id": "31ce8f6b",
   "metadata": {},
   "source": [
    "****In Python a list is represented by a \"list\" class****"
   ]
  },
  {
   "cell_type": "markdown",
   "id": "cd35a7f3",
   "metadata": {},
   "source": [
    "## 4) Tuple"
   ]
  },
  {
   "cell_type": "markdown",
   "id": "1ed273a1",
   "metadata": {},
   "source": [
    "**A tuple is a data type used to store multiple items in a single variable**\n",
    "\n",
    "***A tuple is a collection of items which are ordered and unchangable***\n",
    "\n",
    "****The only differnece between a tuple and a list is that lists are mutable while tuples are not****\n",
    "\n",
    "\n",
    "**Tuples are identified by paranthesis ()**"
   ]
  },
  {
   "attachments": {
    "python-tuple.jpg": {
     "image/jpeg": "[encoded data removed]"
    }
   },
   "cell_type": "markdown",
   "id": "1180ca81",
   "metadata": {},
   "source": [
    "![python-tuple.jpg](attachment:python-tuple.jpg)"
   ]
  },
  {
   "cell_type": "code",
   "execution_count": null,
   "id": "21459015",
   "metadata": {},
   "outputs": [],
   "source": [
    "print((1,2.3,1-3j,'This is an example of tuple'))"
   ]
  },
  {
   "cell_type": "code",
   "execution_count": null,
   "id": "f2e6f7e5",
   "metadata": {},
   "outputs": [],
   "source": [
    "type((1,2.3,1-3j,'This is an example of tuple'))"
   ]
  },
  {
   "cell_type": "markdown",
   "id": "bb40b056",
   "metadata": {},
   "source": [
    "**We can only access the items in a tuple but not change/replace**"
   ]
  },
  {
   "cell_type": "code",
   "execution_count": null,
   "id": "6729897c",
   "metadata": {},
   "outputs": [],
   "source": [
    "print((1,2.3,1-3j,'This is an example of tuple')[0])"
   ]
  },
  {
   "cell_type": "code",
   "execution_count": null,
   "id": "f8d8450e",
   "metadata": {},
   "outputs": [],
   "source": [
    "print((1,2.3,1-3j,'This is an example of tuple')[1])"
   ]
  },
  {
   "cell_type": "code",
   "execution_count": null,
   "id": "209d5b8b",
   "metadata": {},
   "outputs": [],
   "source": [
    "print((1,2.3,1-3j,'This is an example of tuple')[2])"
   ]
  },
  {
   "cell_type": "code",
   "execution_count": null,
   "id": "22bc97f2",
   "metadata": {},
   "outputs": [],
   "source": [
    "print((1,2.3,1-3j,'This is an example of tuple')[3])"
   ]
  },
  {
   "cell_type": "code",
   "execution_count": null,
   "id": "db3a8d22",
   "metadata": {},
   "outputs": [],
   "source": [
    "print((1,2.3,1-3j,'This is an example of tuple')[0:2])"
   ]
  },
  {
   "cell_type": "code",
   "execution_count": null,
   "id": "54ce0a1e",
   "metadata": {},
   "outputs": [],
   "source": [
    "print((1,2.3,1-3j,'This is an example of tuple')[2:4])"
   ]
  },
  {
   "cell_type": "markdown",
   "id": "1cc1b8a3",
   "metadata": {},
   "source": [
    "## 5) Sets"
   ]
  },
  {
   "cell_type": "markdown",
   "id": "acfe2155",
   "metadata": {},
   "source": [
    "**A set is an unordered collection of items**\n",
    "\n",
    "**A set can contain only UNIQUE items means no repetition of the same element**\n",
    "\n",
    "**There is no indexing in Sets as all the items are unordered and are unique**\n",
    "\n",
    "**A set is MUTABLE means items cannot be changed**\n",
    "\n",
    "***A Set is identified/represented by curly braceks or braces { }***"
   ]
  },
  {
   "attachments": {
    "python-sets.jpg": {
     "image/jpeg": "[encoded data removed]"
    }
   },
   "cell_type": "markdown",
   "id": "3722a13d",
   "metadata": {},
   "source": [
    "![python-sets.jpg](attachment:python-sets.jpg)"
   ]
  },
  {
   "cell_type": "code",
   "execution_count": null,
   "id": "7fa43ec8",
   "metadata": {},
   "outputs": [],
   "source": [
    "print({3,1.22,2.3,3+5j, \"this is a set\"})"
   ]
  },
  {
   "cell_type": "markdown",
   "id": "6eb1eee8",
   "metadata": {},
   "source": [
    "****Note that our set of different items was unordered but Python knew that it's a set so it automatically ****"
   ]
  },
  {
   "cell_type": "code",
   "execution_count": null,
   "id": "0961cbf4",
   "metadata": {},
   "outputs": [],
   "source": [
    "print({1,1,1,3,3,-6,-7,-8,-8,9,-9,10,11.11,12.2,12.3,15,13.9,'This is an example of tuple'})"
   ]
  },
  {
   "cell_type": "markdown",
   "id": "b4580266",
   "metadata": {},
   "source": [
    "**Note that we had repeated items in the above example but since it was a set, so Python automatically removed them**"
   ]
  },
  {
   "cell_type": "code",
   "execution_count": null,
   "id": "04ee15e0",
   "metadata": {},
   "outputs": [],
   "source": [
    "print({1,2.3,1-3j,'There is no indexing in the SETS'}[0])"
   ]
  },
  {
   "cell_type": "code",
   "execution_count": null,
   "id": "77a9a7c8",
   "metadata": {},
   "outputs": [],
   "source": [
    "type({1,2.3,1-3j,'There is no indexing in the SETS'})"
   ]
  },
  {
   "cell_type": "markdown",
   "id": "7973398d",
   "metadata": {},
   "source": [
    "**In Python sets are represented by the class \"set\"**"
   ]
  },
  {
   "cell_type": "markdown",
   "id": "859fec03",
   "metadata": {},
   "source": [
    "## 6) Dictionary"
   ]
  },
  {
   "cell_type": "markdown",
   "id": "e7476706",
   "metadata": {},
   "source": [
    "*****Dictionary is a data type used to store values in key:value pairs*****\n",
    "\n",
    "****Dictionaries are ordered, changable and do not allow duplicates****\n",
    "\n",
    "* **Dictionaries are optimized to retrieve values when a key is known**\n",
    "* *In key:value, value is the actual information associated with a key, think of it as, items in your room are values, your door is the key and together we call it a room (dic)*\n",
    "\n",
    "    * ****things in your room are values****\n",
    "    * ****door of your room is the key****\n",
    "    * ****together they make a room which is a dictionary****\n",
    "    \n",
    "    \n",
    "*****Each key-value pair is separated by a 'colon :', whereas each key is separated by a 'comma ,'*****"
   ]
  },
  {
   "cell_type": "code",
   "execution_count": null,
   "id": "09cee7e8",
   "metadata": {},
   "outputs": [],
   "source": [
    "print({1:'Look', 2:'closely', 3:'You see the difference?'})"
   ]
  },
  {
   "cell_type": "markdown",
   "id": "79c1f5e4",
   "metadata": {},
   "source": [
    "**In above example 1,2, and 3 are the keys, while 'look', 'closely' and 'You see the difference?' are the values assosciated with these keys**"
   ]
  },
  {
   "cell_type": "markdown",
   "id": "30f99104",
   "metadata": {},
   "source": [
    "****To access an item in the list we look at their keys****"
   ]
  },
  {
   "cell_type": "code",
   "execution_count": null,
   "id": "6280f85f",
   "metadata": {},
   "outputs": [],
   "source": [
    "dictt = {1:'Look', 2:'closely', 3:'You see the difference?'}\n",
    "print(dictt[1])"
   ]
  },
  {
   "cell_type": "code",
   "execution_count": null,
   "id": "924d166c",
   "metadata": {},
   "outputs": [],
   "source": [
    "print(dictt[2])"
   ]
  },
  {
   "cell_type": "code",
   "execution_count": null,
   "id": "197fbce2",
   "metadata": {},
   "outputs": [],
   "source": [
    "print(dictt[3])"
   ]
  },
  {
   "cell_type": "markdown",
   "id": "d2d258f5",
   "metadata": {},
   "source": [
    "**We cannot use values to access the key :p**"
   ]
  },
  {
   "cell_type": "code",
   "execution_count": null,
   "id": "de2c86e3",
   "metadata": {},
   "outputs": [],
   "source": [
    "print(dictt['Look'])"
   ]
  },
  {
   "cell_type": "markdown",
   "id": "991ae59c",
   "metadata": {},
   "source": [
    "*****We can also update a dictionary with new items*****"
   ]
  },
  {
   "cell_type": "code",
   "execution_count": null,
   "id": "ccb398a8",
   "metadata": {},
   "outputs": [],
   "source": [
    "dictt[4] = 'New item'\n",
    "print(dictt)"
   ]
  },
  {
   "cell_type": "markdown",
   "id": "5a207653",
   "metadata": {},
   "source": [
    "****We can also replace an item from a dictionary with another item****"
   ]
  },
  {
   "cell_type": "code",
   "execution_count": null,
   "id": "1038322e",
   "metadata": {},
   "outputs": [],
   "source": [
    "print(dictt, '            This is before replacement')\n",
    "dictt[3] = 'Replaced item'\n",
    "print(dictt, '            This is after replacement')"
   ]
  },
  {
   "cell_type": "code",
   "execution_count": null,
   "id": "97d4f419",
   "metadata": {},
   "outputs": [],
   "source": [
    "print(dictt[1:3])"
   ]
  },
  {
   "cell_type": "markdown",
   "id": "b66bd68d",
   "metadata": {},
   "source": [
    "***There is no slicing in the dictionaries as shown in the above example***"
   ]
  },
  {
   "cell_type": "code",
   "execution_count": 31,
   "id": "27b94584",
   "metadata": {},
   "outputs": [
    {
     "ename": "NameError",
     "evalue": "name 'dictt' is not defined",
     "output_type": "error",
     "traceback": [
      "\u001b[1;31m---------------------------------------------------------------------------\u001b[0m",
      "\u001b[1;31mNameError\u001b[0m                                 Traceback (most recent call last)",
      "\u001b[1;32m<ipython-input-31-5d9d109637b7>\u001b[0m in \u001b[0;36m<module>\u001b[1;34m\u001b[0m\n\u001b[1;32m----> 1\u001b[1;33m \u001b[0mtype\u001b[0m\u001b[1;33m(\u001b[0m\u001b[0mdictt\u001b[0m\u001b[1;33m)\u001b[0m\u001b[1;33m\u001b[0m\u001b[1;33m\u001b[0m\u001b[0m\n\u001b[0m",
      "\u001b[1;31mNameError\u001b[0m: name 'dictt' is not defined"
     ]
    }
   ],
   "source": [
    "type(dictt)"
   ]
  },
  {
   "cell_type": "markdown",
   "id": "377475bd",
   "metadata": {},
   "source": [
    "****In Python the dictionaries are represented by the class 'dict'**** **as shown above**"
   ]
  }
 ],
 "metadata": {
  "kernelspec": {
   "display_name": "Python 3",
   "language": "python",
   "name": "python3"
  },
  "language_info": {
   "codemirror_mode": {
    "name": "ipython",
    "version": 3
   },
   "file_extension": ".py",
   "mimetype": "text/x-python",
   "name": "python",
   "nbconvert_exporter": "python",
   "pygments_lexer": "ipython3",
   "version": "3.8.8"
  }
 },
 "nbformat": 4,
 "nbformat_minor": 5
}
