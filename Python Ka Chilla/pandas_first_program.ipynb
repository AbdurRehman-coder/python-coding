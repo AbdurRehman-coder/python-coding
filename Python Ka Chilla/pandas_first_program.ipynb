{
 "cells": [
  {
   "cell_type": "markdown",
   "metadata": {},
   "source": [
    "## Pandas Practice\n"
   ]
  },
  {
   "cell_type": "markdown",
   "metadata": {},
   "source": [
    "### Import the Libraries\n",
    "\n",
    "* **Install libraries through pip (Python Packages Manager)**\n",
    "\n",
    "* pip install numpy\n",
    "* pip install pandas\n"
   ]
  },
  {
   "cell_type": "code",
   "execution_count": 8,
   "metadata": {},
   "outputs": [
    {
     "data": {
      "text/plain": [
       "0     3\n",
       "1     5\n",
       "2    34\n",
       "3    90\n",
       "4     1\n",
       "dtype: int64"
      ]
     },
     "execution_count": 8,
     "metadata": {},
     "output_type": "execute_result"
    }
   ],
   "source": [
    "import numpy as np\n",
    "import pandas as pd\n",
    "\n",
    "data = pd.Series([3, 5, 34, 90, 1]) # Series is like column in excel sheet\n",
    "data"
   ]
  },
  {
   "cell_type": "code",
   "execution_count": 16,
   "metadata": {},
   "outputs": [
    {
     "data": {
      "text/plain": [
       "DatetimeIndex(['2022-01-05', '2022-01-06', '2022-01-07', '2022-01-08',\n",
       "               '2022-01-09'],\n",
       "              dtype='datetime64[ns]', freq='D')"
      ]
     },
     "execution_count": 16,
     "metadata": {},
     "output_type": "execute_result"
    }
   ],
   "source": [
    "list_dates = pd.date_range('20220105', periods= 5)\n",
    "list_dates"
   ]
  },
  {
   "cell_type": "code",
   "execution_count": 18,
   "metadata": {},
   "outputs": [
    {
     "data": {
      "text/html": [
       "<div>\n",
       "<style scoped>\n",
       "    .dataframe tbody tr th:only-of-type {\n",
       "        vertical-align: middle;\n",
       "    }\n",
       "\n",
       "    .dataframe tbody tr th {\n",
       "        vertical-align: top;\n",
       "    }\n",
       "\n",
       "    .dataframe thead th {\n",
       "        text-align: right;\n",
       "    }\n",
       "</style>\n",
       "<table border=\"1\" class=\"dataframe\">\n",
       "  <thead>\n",
       "    <tr style=\"text-align: right;\">\n",
       "      <th></th>\n",
       "      <th>A</th>\n",
       "      <th>B</th>\n",
       "      <th>D</th>\n",
       "      <th>C</th>\n",
       "    </tr>\n",
       "  </thead>\n",
       "  <tbody>\n",
       "    <tr>\n",
       "      <th>2022-01-05</th>\n",
       "      <td>-0.862948</td>\n",
       "      <td>0.746623</td>\n",
       "      <td>-0.887232</td>\n",
       "      <td>0.669863</td>\n",
       "    </tr>\n",
       "    <tr>\n",
       "      <th>2022-01-06</th>\n",
       "      <td>-1.584317</td>\n",
       "      <td>-1.373865</td>\n",
       "      <td>0.263347</td>\n",
       "      <td>1.623824</td>\n",
       "    </tr>\n",
       "    <tr>\n",
       "      <th>2022-01-07</th>\n",
       "      <td>-0.715966</td>\n",
       "      <td>1.063780</td>\n",
       "      <td>0.359892</td>\n",
       "      <td>-0.618176</td>\n",
       "    </tr>\n",
       "    <tr>\n",
       "      <th>2022-01-08</th>\n",
       "      <td>-0.361654</td>\n",
       "      <td>2.125288</td>\n",
       "      <td>-1.649298</td>\n",
       "      <td>-1.102306</td>\n",
       "    </tr>\n",
       "    <tr>\n",
       "      <th>2022-01-09</th>\n",
       "      <td>-1.327070</td>\n",
       "      <td>0.988475</td>\n",
       "      <td>0.425598</td>\n",
       "      <td>-1.055742</td>\n",
       "    </tr>\n",
       "  </tbody>\n",
       "</table>\n",
       "</div>"
      ],
      "text/plain": [
       "                   A         B         D         C\n",
       "2022-01-05 -0.862948  0.746623 -0.887232  0.669863\n",
       "2022-01-06 -1.584317 -1.373865  0.263347  1.623824\n",
       "2022-01-07 -0.715966  1.063780  0.359892 -0.618176\n",
       "2022-01-08 -0.361654  2.125288 -1.649298 -1.102306\n",
       "2022-01-09 -1.327070  0.988475  0.425598 -1.055742"
      ]
     },
     "execution_count": 18,
     "metadata": {},
     "output_type": "execute_result"
    }
   ],
   "source": [
    "\n",
    "# pass list_dates as in index, \n",
    "df = pd.DataFrame(np.random.randn(5, 4), index = list_dates,  columns = list('ABDC'))\n",
    "df"
   ]
  },
  {
   "cell_type": "markdown",
   "metadata": {},
   "source": []
  },
  {
   "cell_type": "code",
   "execution_count": 21,
   "metadata": {},
   "outputs": [
    {
     "data": {
      "text/html": [
       "<div>\n",
       "<style scoped>\n",
       "    .dataframe tbody tr th:only-of-type {\n",
       "        vertical-align: middle;\n",
       "    }\n",
       "\n",
       "    .dataframe tbody tr th {\n",
       "        vertical-align: top;\n",
       "    }\n",
       "\n",
       "    .dataframe thead th {\n",
       "        text-align: right;\n",
       "    }\n",
       "</style>\n",
       "<table border=\"1\" class=\"dataframe\">\n",
       "  <thead>\n",
       "    <tr style=\"text-align: right;\">\n",
       "      <th></th>\n",
       "      <th>A</th>\n",
       "      <th>B</th>\n",
       "      <th>D</th>\n",
       "      <th>C</th>\n",
       "    </tr>\n",
       "  </thead>\n",
       "  <tbody>\n",
       "    <tr>\n",
       "      <th>2022-01-05</th>\n",
       "      <td>-0.862948</td>\n",
       "      <td>0.746623</td>\n",
       "      <td>-0.887232</td>\n",
       "      <td>0.669863</td>\n",
       "    </tr>\n",
       "    <tr>\n",
       "      <th>2022-01-06</th>\n",
       "      <td>-1.584317</td>\n",
       "      <td>-1.373865</td>\n",
       "      <td>0.263347</td>\n",
       "      <td>1.623824</td>\n",
       "    </tr>\n",
       "  </tbody>\n",
       "</table>\n",
       "</div>"
      ],
      "text/plain": [
       "                   A         B         D         C\n",
       "2022-01-05 -0.862948  0.746623 -0.887232  0.669863\n",
       "2022-01-06 -1.584317 -1.373865  0.263347  1.623824"
      ]
     },
     "execution_count": 21,
     "metadata": {},
     "output_type": "execute_result"
    }
   ],
   "source": [
    "# it will show the first two heads or row\n",
    "df.head(2)"
   ]
  },
  {
   "cell_type": "code",
   "execution_count": 22,
   "metadata": {},
   "outputs": [
    {
     "data": {
      "text/html": [
       "<div>\n",
       "<style scoped>\n",
       "    .dataframe tbody tr th:only-of-type {\n",
       "        vertical-align: middle;\n",
       "    }\n",
       "\n",
       "    .dataframe tbody tr th {\n",
       "        vertical-align: top;\n",
       "    }\n",
       "\n",
       "    .dataframe thead th {\n",
       "        text-align: right;\n",
       "    }\n",
       "</style>\n",
       "<table border=\"1\" class=\"dataframe\">\n",
       "  <thead>\n",
       "    <tr style=\"text-align: right;\">\n",
       "      <th></th>\n",
       "      <th>A</th>\n",
       "      <th>B</th>\n",
       "      <th>D</th>\n",
       "      <th>C</th>\n",
       "    </tr>\n",
       "  </thead>\n",
       "  <tbody>\n",
       "    <tr>\n",
       "      <th>2022-01-08</th>\n",
       "      <td>-0.361654</td>\n",
       "      <td>2.125288</td>\n",
       "      <td>-1.649298</td>\n",
       "      <td>-1.102306</td>\n",
       "    </tr>\n",
       "    <tr>\n",
       "      <th>2022-01-09</th>\n",
       "      <td>-1.327070</td>\n",
       "      <td>0.988475</td>\n",
       "      <td>0.425598</td>\n",
       "      <td>-1.055742</td>\n",
       "    </tr>\n",
       "  </tbody>\n",
       "</table>\n",
       "</div>"
      ],
      "text/plain": [
       "                   A         B         D         C\n",
       "2022-01-08 -0.361654  2.125288 -1.649298 -1.102306\n",
       "2022-01-09 -1.327070  0.988475  0.425598 -1.055742"
      ]
     },
     "execution_count": 22,
     "metadata": {},
     "output_type": "execute_result"
    }
   ],
   "source": [
    "# it will show last two tail\n",
    "df.tail(2)"
   ]
  },
  {
   "cell_type": "markdown",
   "metadata": {},
   "source": [
    "#### Change DateFrame into numpy 2-D array"
   ]
  },
  {
   "cell_type": "code",
   "execution_count": 29,
   "metadata": {},
   "outputs": [
    {
     "data": {
      "text/plain": [
       "array([[-0.86294836,  0.74662315, -0.88723155,  0.66986251],\n",
       "       [-1.58431714, -1.37386494,  0.26334703,  1.62382359],\n",
       "       [-0.71596567,  1.06378022,  0.35989171, -0.61817573],\n",
       "       [-0.36165429,  2.12528779, -1.64929777, -1.10230578],\n",
       "       [-1.32707003,  0.98847478,  0.42559758, -1.05574221]])"
      ]
     },
     "execution_count": 29,
     "metadata": {},
     "output_type": "execute_result"
    }
   ],
   "source": [
    "\n",
    "df.to_numpy()"
   ]
  },
  {
   "cell_type": "code",
   "execution_count": 30,
   "metadata": {},
   "outputs": [
    {
     "data": {
      "text/plain": [
       "DatetimeIndex(['2022-01-05', '2022-01-06', '2022-01-07', '2022-01-08',\n",
       "               '2022-01-09'],\n",
       "              dtype='datetime64[ns]', freq='D')"
      ]
     },
     "execution_count": 30,
     "metadata": {},
     "output_type": "execute_result"
    }
   ],
   "source": [
    "df.index"
   ]
  },
  {
   "cell_type": "code",
   "execution_count": 34,
   "metadata": {},
   "outputs": [
    {
     "data": {
      "text/html": [
       "<div>\n",
       "<style scoped>\n",
       "    .dataframe tbody tr th:only-of-type {\n",
       "        vertical-align: middle;\n",
       "    }\n",
       "\n",
       "    .dataframe tbody tr th {\n",
       "        vertical-align: top;\n",
       "    }\n",
       "\n",
       "    .dataframe thead th {\n",
       "        text-align: right;\n",
       "    }\n",
       "</style>\n",
       "<table border=\"1\" class=\"dataframe\">\n",
       "  <thead>\n",
       "    <tr style=\"text-align: right;\">\n",
       "      <th></th>\n",
       "      <th>A</th>\n",
       "      <th>B</th>\n",
       "      <th>D</th>\n",
       "      <th>C</th>\n",
       "    </tr>\n",
       "  </thead>\n",
       "  <tbody>\n",
       "    <tr>\n",
       "      <th>count</th>\n",
       "      <td>5.000000</td>\n",
       "      <td>5.000000</td>\n",
       "      <td>5.000000</td>\n",
       "      <td>5.000000</td>\n",
       "    </tr>\n",
       "    <tr>\n",
       "      <th>mean</th>\n",
       "      <td>-0.970391</td>\n",
       "      <td>0.710060</td>\n",
       "      <td>-0.297539</td>\n",
       "      <td>-0.096508</td>\n",
       "    </tr>\n",
       "    <tr>\n",
       "      <th>std</th>\n",
       "      <td>0.487586</td>\n",
       "      <td>1.279608</td>\n",
       "      <td>0.927998</td>\n",
       "      <td>1.199037</td>\n",
       "    </tr>\n",
       "    <tr>\n",
       "      <th>min</th>\n",
       "      <td>-1.584317</td>\n",
       "      <td>-1.373865</td>\n",
       "      <td>-1.649298</td>\n",
       "      <td>-1.102306</td>\n",
       "    </tr>\n",
       "    <tr>\n",
       "      <th>25%</th>\n",
       "      <td>-1.327070</td>\n",
       "      <td>0.746623</td>\n",
       "      <td>-0.887232</td>\n",
       "      <td>-1.055742</td>\n",
       "    </tr>\n",
       "    <tr>\n",
       "      <th>50%</th>\n",
       "      <td>-0.862948</td>\n",
       "      <td>0.988475</td>\n",
       "      <td>0.263347</td>\n",
       "      <td>-0.618176</td>\n",
       "    </tr>\n",
       "    <tr>\n",
       "      <th>75%</th>\n",
       "      <td>-0.715966</td>\n",
       "      <td>1.063780</td>\n",
       "      <td>0.359892</td>\n",
       "      <td>0.669863</td>\n",
       "    </tr>\n",
       "    <tr>\n",
       "      <th>max</th>\n",
       "      <td>-0.361654</td>\n",
       "      <td>2.125288</td>\n",
       "      <td>0.425598</td>\n",
       "      <td>1.623824</td>\n",
       "    </tr>\n",
       "  </tbody>\n",
       "</table>\n",
       "</div>"
      ],
      "text/plain": [
       "              A         B         D         C\n",
       "count  5.000000  5.000000  5.000000  5.000000\n",
       "mean  -0.970391  0.710060 -0.297539 -0.096508\n",
       "std    0.487586  1.279608  0.927998  1.199037\n",
       "min   -1.584317 -1.373865 -1.649298 -1.102306\n",
       "25%   -1.327070  0.746623 -0.887232 -1.055742\n",
       "50%   -0.862948  0.988475  0.263347 -0.618176\n",
       "75%   -0.715966  1.063780  0.359892  0.669863\n",
       "max   -0.361654  2.125288  0.425598  1.623824"
      ]
     },
     "execution_count": 34,
     "metadata": {},
     "output_type": "execute_result"
    }
   ],
   "source": [
    "# Describe() show the statistical information about data\n",
    "df.describe()"
   ]
  },
  {
   "cell_type": "code",
   "execution_count": 42,
   "metadata": {},
   "outputs": [
    {
     "data": {
      "text/html": [
       "<div>\n",
       "<style scoped>\n",
       "    .dataframe tbody tr th:only-of-type {\n",
       "        vertical-align: middle;\n",
       "    }\n",
       "\n",
       "    .dataframe tbody tr th {\n",
       "        vertical-align: top;\n",
       "    }\n",
       "\n",
       "    .dataframe thead th {\n",
       "        text-align: right;\n",
       "    }\n",
       "</style>\n",
       "<table border=\"1\" class=\"dataframe\">\n",
       "  <thead>\n",
       "    <tr style=\"text-align: right;\">\n",
       "      <th></th>\n",
       "      <th>A</th>\n",
       "      <th>B</th>\n",
       "      <th>D</th>\n",
       "      <th>C</th>\n",
       "    </tr>\n",
       "  </thead>\n",
       "  <tbody>\n",
       "    <tr>\n",
       "      <th>2022-01-09</th>\n",
       "      <td>-1.327070</td>\n",
       "      <td>0.988475</td>\n",
       "      <td>0.425598</td>\n",
       "      <td>-1.055742</td>\n",
       "    </tr>\n",
       "    <tr>\n",
       "      <th>2022-01-08</th>\n",
       "      <td>-0.361654</td>\n",
       "      <td>2.125288</td>\n",
       "      <td>-1.649298</td>\n",
       "      <td>-1.102306</td>\n",
       "    </tr>\n",
       "    <tr>\n",
       "      <th>2022-01-07</th>\n",
       "      <td>-0.715966</td>\n",
       "      <td>1.063780</td>\n",
       "      <td>0.359892</td>\n",
       "      <td>-0.618176</td>\n",
       "    </tr>\n",
       "    <tr>\n",
       "      <th>2022-01-06</th>\n",
       "      <td>-1.584317</td>\n",
       "      <td>-1.373865</td>\n",
       "      <td>0.263347</td>\n",
       "      <td>1.623824</td>\n",
       "    </tr>\n",
       "    <tr>\n",
       "      <th>2022-01-05</th>\n",
       "      <td>-0.862948</td>\n",
       "      <td>0.746623</td>\n",
       "      <td>-0.887232</td>\n",
       "      <td>0.669863</td>\n",
       "    </tr>\n",
       "  </tbody>\n",
       "</table>\n",
       "</div>"
      ],
      "text/plain": [
       "                   A         B         D         C\n",
       "2022-01-09 -1.327070  0.988475  0.425598 -1.055742\n",
       "2022-01-08 -0.361654  2.125288 -1.649298 -1.102306\n",
       "2022-01-07 -0.715966  1.063780  0.359892 -0.618176\n",
       "2022-01-06 -1.584317 -1.373865  0.263347  1.623824\n",
       "2022-01-05 -0.862948  0.746623 -0.887232  0.669863"
      ]
     },
     "execution_count": 42,
     "metadata": {},
     "output_type": "execute_result"
    }
   ],
   "source": [
    "# sort indexes\n",
    "df.sort_index(ascending = False)"
   ]
  },
  {
   "cell_type": "code",
   "execution_count": 44,
   "metadata": {},
   "outputs": [
    {
     "data": {
      "text/html": [
       "<div>\n",
       "<style scoped>\n",
       "    .dataframe tbody tr th:only-of-type {\n",
       "        vertical-align: middle;\n",
       "    }\n",
       "\n",
       "    .dataframe tbody tr th {\n",
       "        vertical-align: top;\n",
       "    }\n",
       "\n",
       "    .dataframe thead th {\n",
       "        text-align: right;\n",
       "    }\n",
       "</style>\n",
       "<table border=\"1\" class=\"dataframe\">\n",
       "  <thead>\n",
       "    <tr style=\"text-align: right;\">\n",
       "      <th></th>\n",
       "      <th>A</th>\n",
       "      <th>B</th>\n",
       "      <th>D</th>\n",
       "      <th>C</th>\n",
       "    </tr>\n",
       "  </thead>\n",
       "  <tbody>\n",
       "    <tr>\n",
       "      <th>2022-01-08</th>\n",
       "      <td>-0.361654</td>\n",
       "      <td>2.125288</td>\n",
       "      <td>-1.649298</td>\n",
       "      <td>-1.102306</td>\n",
       "    </tr>\n",
       "    <tr>\n",
       "      <th>2022-01-07</th>\n",
       "      <td>-0.715966</td>\n",
       "      <td>1.063780</td>\n",
       "      <td>0.359892</td>\n",
       "      <td>-0.618176</td>\n",
       "    </tr>\n",
       "    <tr>\n",
       "      <th>2022-01-05</th>\n",
       "      <td>-0.862948</td>\n",
       "      <td>0.746623</td>\n",
       "      <td>-0.887232</td>\n",
       "      <td>0.669863</td>\n",
       "    </tr>\n",
       "    <tr>\n",
       "      <th>2022-01-09</th>\n",
       "      <td>-1.327070</td>\n",
       "      <td>0.988475</td>\n",
       "      <td>0.425598</td>\n",
       "      <td>-1.055742</td>\n",
       "    </tr>\n",
       "    <tr>\n",
       "      <th>2022-01-06</th>\n",
       "      <td>-1.584317</td>\n",
       "      <td>-1.373865</td>\n",
       "      <td>0.263347</td>\n",
       "      <td>1.623824</td>\n",
       "    </tr>\n",
       "  </tbody>\n",
       "</table>\n",
       "</div>"
      ],
      "text/plain": [
       "                   A         B         D         C\n",
       "2022-01-08 -0.361654  2.125288 -1.649298 -1.102306\n",
       "2022-01-07 -0.715966  1.063780  0.359892 -0.618176\n",
       "2022-01-05 -0.862948  0.746623 -0.887232  0.669863\n",
       "2022-01-09 -1.327070  0.988475  0.425598 -1.055742\n",
       "2022-01-06 -1.584317 -1.373865  0.263347  1.623824"
      ]
     },
     "execution_count": 44,
     "metadata": {},
     "output_type": "execute_result"
    }
   ],
   "source": [
    "# sort by value\n",
    "df.sort_values(by='A', ascending=True)"
   ]
  },
  {
   "cell_type": "code",
   "execution_count": 51,
   "metadata": {},
   "outputs": [
    {
     "data": {
      "text/plain": [
       "2022-01-05    0.746623\n",
       "2022-01-06   -1.373865\n",
       "2022-01-07    1.063780\n",
       "2022-01-08    2.125288\n",
       "2022-01-09    0.988475\n",
       "Freq: D, Name: B, dtype: float64"
      ]
     },
     "execution_count": 51,
     "metadata": {},
     "output_type": "execute_result"
    }
   ],
   "source": [
    "df['B']"
   ]
  },
  {
   "cell_type": "code",
   "execution_count": 67,
   "metadata": {},
   "outputs": [
    {
     "data": {
      "text/html": [
       "<div>\n",
       "<style scoped>\n",
       "    .dataframe tbody tr th:only-of-type {\n",
       "        vertical-align: middle;\n",
       "    }\n",
       "\n",
       "    .dataframe tbody tr th {\n",
       "        vertical-align: top;\n",
       "    }\n",
       "\n",
       "    .dataframe thead th {\n",
       "        text-align: right;\n",
       "    }\n",
       "</style>\n",
       "<table border=\"1\" class=\"dataframe\">\n",
       "  <thead>\n",
       "    <tr style=\"text-align: right;\">\n",
       "      <th></th>\n",
       "      <th>A</th>\n",
       "      <th>B</th>\n",
       "      <th>C</th>\n",
       "    </tr>\n",
       "  </thead>\n",
       "  <tbody>\n",
       "    <tr>\n",
       "      <th>2022-01-06</th>\n",
       "      <td>-1.584317</td>\n",
       "      <td>-1.373865</td>\n",
       "      <td>1.623824</td>\n",
       "    </tr>\n",
       "    <tr>\n",
       "      <th>2022-01-07</th>\n",
       "      <td>-0.715966</td>\n",
       "      <td>1.063780</td>\n",
       "      <td>-0.618176</td>\n",
       "    </tr>\n",
       "    <tr>\n",
       "      <th>2022-01-08</th>\n",
       "      <td>-0.361654</td>\n",
       "      <td>2.125288</td>\n",
       "      <td>-1.102306</td>\n",
       "    </tr>\n",
       "  </tbody>\n",
       "</table>\n",
       "</div>"
      ],
      "text/plain": [
       "                   A         B         C\n",
       "2022-01-06 -1.584317 -1.373865  1.623824\n",
       "2022-01-07 -0.715966  1.063780 -0.618176\n",
       "2022-01-08 -0.361654  2.125288 -1.102306"
      ]
     },
     "execution_count": 67,
     "metadata": {},
     "output_type": "execute_result"
    }
   ],
   "source": [
    "# from 06 to 08 \n",
    "df.loc[ '20220106' :  '20220108', ['A', 'B', 'C'] ]   \n"
   ]
  },
  {
   "cell_type": "code",
   "execution_count": 69,
   "metadata": {},
   "outputs": [
    {
     "data": {
      "text/html": [
       "<div>\n",
       "<style scoped>\n",
       "    .dataframe tbody tr th:only-of-type {\n",
       "        vertical-align: middle;\n",
       "    }\n",
       "\n",
       "    .dataframe tbody tr th {\n",
       "        vertical-align: top;\n",
       "    }\n",
       "\n",
       "    .dataframe thead th {\n",
       "        text-align: right;\n",
       "    }\n",
       "</style>\n",
       "<table border=\"1\" class=\"dataframe\">\n",
       "  <thead>\n",
       "    <tr style=\"text-align: right;\">\n",
       "      <th></th>\n",
       "      <th>A</th>\n",
       "      <th>B</th>\n",
       "      <th>C</th>\n",
       "    </tr>\n",
       "  </thead>\n",
       "  <tbody>\n",
       "    <tr>\n",
       "      <th>2022-01-06</th>\n",
       "      <td>-1.584317</td>\n",
       "      <td>-1.373865</td>\n",
       "      <td>1.623824</td>\n",
       "    </tr>\n",
       "    <tr>\n",
       "      <th>2022-01-08</th>\n",
       "      <td>-0.361654</td>\n",
       "      <td>2.125288</td>\n",
       "      <td>-1.102306</td>\n",
       "    </tr>\n",
       "  </tbody>\n",
       "</table>\n",
       "</div>"
      ],
      "text/plain": [
       "                   A         B         C\n",
       "2022-01-06 -1.584317 -1.373865  1.623824\n",
       "2022-01-08 -0.361654  2.125288 -1.102306"
      ]
     },
     "execution_count": 69,
     "metadata": {},
     "output_type": "execute_result"
    }
   ],
   "source": [
    "# from 06 and 08 \n",
    "df.loc[ ['20220106' ,  '20220108'], ['A', 'B', 'C'] ]   "
   ]
  },
  {
   "cell_type": "code",
   "execution_count": 75,
   "metadata": {},
   "outputs": [
    {
     "data": {
      "text/plain": [
       "DatetimeIndex(['2022-01-05', '2022-01-06', '2022-01-07', '2022-01-08',\n",
       "               '2022-01-09'],\n",
       "              dtype='datetime64[ns]', freq='D')"
      ]
     },
     "execution_count": 75,
     "metadata": {},
     "output_type": "execute_result"
    }
   ],
   "source": [
    "list_dates"
   ]
  },
  {
   "cell_type": "code",
   "execution_count": 78,
   "metadata": {},
   "outputs": [
    {
     "data": {
      "text/plain": [
       "-0.8629483622771852"
      ]
     },
     "execution_count": 78,
     "metadata": {},
     "output_type": "execute_result"
    }
   ],
   "source": [
    "df.at[list_dates[0], 'A']"
   ]
  },
  {
   "cell_type": "code",
   "execution_count": 83,
   "metadata": {},
   "outputs": [
    {
     "data": {
      "text/html": [
       "<div>\n",
       "<style scoped>\n",
       "    .dataframe tbody tr th:only-of-type {\n",
       "        vertical-align: middle;\n",
       "    }\n",
       "\n",
       "    .dataframe tbody tr th {\n",
       "        vertical-align: top;\n",
       "    }\n",
       "\n",
       "    .dataframe thead th {\n",
       "        text-align: right;\n",
       "    }\n",
       "</style>\n",
       "<table border=\"1\" class=\"dataframe\">\n",
       "  <thead>\n",
       "    <tr style=\"text-align: right;\">\n",
       "      <th></th>\n",
       "      <th>A</th>\n",
       "      <th>B</th>\n",
       "    </tr>\n",
       "  </thead>\n",
       "  <tbody>\n",
       "    <tr>\n",
       "      <th>2022-01-05</th>\n",
       "      <td>-0.862948</td>\n",
       "      <td>0.746623</td>\n",
       "    </tr>\n",
       "    <tr>\n",
       "      <th>2022-01-06</th>\n",
       "      <td>-1.584317</td>\n",
       "      <td>-1.373865</td>\n",
       "    </tr>\n",
       "    <tr>\n",
       "      <th>2022-01-07</th>\n",
       "      <td>-0.715966</td>\n",
       "      <td>1.063780</td>\n",
       "    </tr>\n",
       "  </tbody>\n",
       "</table>\n",
       "</div>"
      ],
      "text/plain": [
       "                   A         B\n",
       "2022-01-05 -0.862948  0.746623\n",
       "2022-01-06 -1.584317 -1.373865\n",
       "2022-01-07 -0.715966  1.063780"
      ]
     },
     "execution_count": 83,
     "metadata": {},
     "output_type": "execute_result"
    }
   ],
   "source": [
    "df.iloc[0 : 3, : 2]"
   ]
  },
  {
   "cell_type": "code",
   "execution_count": 86,
   "metadata": {},
   "outputs": [
    {
     "data": {
      "text/html": [
       "<div>\n",
       "<style scoped>\n",
       "    .dataframe tbody tr th:only-of-type {\n",
       "        vertical-align: middle;\n",
       "    }\n",
       "\n",
       "    .dataframe tbody tr th {\n",
       "        vertical-align: top;\n",
       "    }\n",
       "\n",
       "    .dataframe thead th {\n",
       "        text-align: right;\n",
       "    }\n",
       "</style>\n",
       "<table border=\"1\" class=\"dataframe\">\n",
       "  <thead>\n",
       "    <tr style=\"text-align: right;\">\n",
       "      <th></th>\n",
       "      <th>A</th>\n",
       "    </tr>\n",
       "  </thead>\n",
       "  <tbody>\n",
       "    <tr>\n",
       "      <th>2022-01-05</th>\n",
       "      <td>-0.862948</td>\n",
       "    </tr>\n",
       "    <tr>\n",
       "      <th>2022-01-06</th>\n",
       "      <td>-1.584317</td>\n",
       "    </tr>\n",
       "    <tr>\n",
       "      <th>2022-01-07</th>\n",
       "      <td>-0.715966</td>\n",
       "    </tr>\n",
       "    <tr>\n",
       "      <th>2022-01-08</th>\n",
       "      <td>-0.361654</td>\n",
       "    </tr>\n",
       "    <tr>\n",
       "      <th>2022-01-09</th>\n",
       "      <td>-1.327070</td>\n",
       "    </tr>\n",
       "  </tbody>\n",
       "</table>\n",
       "</div>"
      ],
      "text/plain": [
       "                   A\n",
       "2022-01-05 -0.862948\n",
       "2022-01-06 -1.584317\n",
       "2022-01-07 -0.715966\n",
       "2022-01-08 -0.361654\n",
       "2022-01-09 -1.327070"
      ]
     },
     "execution_count": 86,
     "metadata": {},
     "output_type": "execute_result"
    }
   ],
   "source": [
    "df.iloc[ : , : 1]"
   ]
  },
  {
   "cell_type": "code",
   "execution_count": 88,
   "metadata": {},
   "outputs": [
    {
     "data": {
      "text/html": [
       "<div>\n",
       "<style scoped>\n",
       "    .dataframe tbody tr th:only-of-type {\n",
       "        vertical-align: middle;\n",
       "    }\n",
       "\n",
       "    .dataframe tbody tr th {\n",
       "        vertical-align: top;\n",
       "    }\n",
       "\n",
       "    .dataframe thead th {\n",
       "        text-align: right;\n",
       "    }\n",
       "</style>\n",
       "<table border=\"1\" class=\"dataframe\">\n",
       "  <thead>\n",
       "    <tr style=\"text-align: right;\">\n",
       "      <th></th>\n",
       "      <th>A</th>\n",
       "      <th>B</th>\n",
       "      <th>D</th>\n",
       "      <th>C</th>\n",
       "    </tr>\n",
       "  </thead>\n",
       "  <tbody>\n",
       "    <tr>\n",
       "      <th>2022-01-05</th>\n",
       "      <td>-0.862948</td>\n",
       "      <td>0.746623</td>\n",
       "      <td>-0.887232</td>\n",
       "      <td>0.669863</td>\n",
       "    </tr>\n",
       "    <tr>\n",
       "      <th>2022-01-06</th>\n",
       "      <td>-1.584317</td>\n",
       "      <td>-1.373865</td>\n",
       "      <td>0.263347</td>\n",
       "      <td>1.623824</td>\n",
       "    </tr>\n",
       "    <tr>\n",
       "      <th>2022-01-07</th>\n",
       "      <td>-0.715966</td>\n",
       "      <td>1.063780</td>\n",
       "      <td>0.359892</td>\n",
       "      <td>-0.618176</td>\n",
       "    </tr>\n",
       "    <tr>\n",
       "      <th>2022-01-08</th>\n",
       "      <td>-0.361654</td>\n",
       "      <td>2.125288</td>\n",
       "      <td>-1.649298</td>\n",
       "      <td>-1.102306</td>\n",
       "    </tr>\n",
       "    <tr>\n",
       "      <th>2022-01-09</th>\n",
       "      <td>-1.327070</td>\n",
       "      <td>0.988475</td>\n",
       "      <td>0.425598</td>\n",
       "      <td>-1.055742</td>\n",
       "    </tr>\n",
       "  </tbody>\n",
       "</table>\n",
       "</div>"
      ],
      "text/plain": [
       "                   A         B         D         C\n",
       "2022-01-05 -0.862948  0.746623 -0.887232  0.669863\n",
       "2022-01-06 -1.584317 -1.373865  0.263347  1.623824\n",
       "2022-01-07 -0.715966  1.063780  0.359892 -0.618176\n",
       "2022-01-08 -0.361654  2.125288 -1.649298 -1.102306\n",
       "2022-01-09 -1.327070  0.988475  0.425598 -1.055742"
      ]
     },
     "execution_count": 88,
     "metadata": {},
     "output_type": "execute_result"
    }
   ],
   "source": [
    "df2 = df.copy()\n",
    "df2"
   ]
  },
  {
   "cell_type": "code",
   "execution_count": 90,
   "metadata": {},
   "outputs": [
    {
     "data": {
      "text/html": [
       "<div>\n",
       "<style scoped>\n",
       "    .dataframe tbody tr th:only-of-type {\n",
       "        vertical-align: middle;\n",
       "    }\n",
       "\n",
       "    .dataframe tbody tr th {\n",
       "        vertical-align: top;\n",
       "    }\n",
       "\n",
       "    .dataframe thead th {\n",
       "        text-align: right;\n",
       "    }\n",
       "</style>\n",
       "<table border=\"1\" class=\"dataframe\">\n",
       "  <thead>\n",
       "    <tr style=\"text-align: right;\">\n",
       "      <th></th>\n",
       "      <th>A</th>\n",
       "      <th>B</th>\n",
       "      <th>D</th>\n",
       "      <th>C</th>\n",
       "    </tr>\n",
       "  </thead>\n",
       "  <tbody>\n",
       "    <tr>\n",
       "      <th>2022-01-05</th>\n",
       "      <td>NaN</td>\n",
       "      <td>0.746623</td>\n",
       "      <td>NaN</td>\n",
       "      <td>0.669863</td>\n",
       "    </tr>\n",
       "    <tr>\n",
       "      <th>2022-01-06</th>\n",
       "      <td>NaN</td>\n",
       "      <td>NaN</td>\n",
       "      <td>0.263347</td>\n",
       "      <td>1.623824</td>\n",
       "    </tr>\n",
       "    <tr>\n",
       "      <th>2022-01-07</th>\n",
       "      <td>NaN</td>\n",
       "      <td>1.063780</td>\n",
       "      <td>0.359892</td>\n",
       "      <td>NaN</td>\n",
       "    </tr>\n",
       "    <tr>\n",
       "      <th>2022-01-08</th>\n",
       "      <td>NaN</td>\n",
       "      <td>2.125288</td>\n",
       "      <td>NaN</td>\n",
       "      <td>NaN</td>\n",
       "    </tr>\n",
       "    <tr>\n",
       "      <th>2022-01-09</th>\n",
       "      <td>NaN</td>\n",
       "      <td>0.988475</td>\n",
       "      <td>0.425598</td>\n",
       "      <td>NaN</td>\n",
       "    </tr>\n",
       "  </tbody>\n",
       "</table>\n",
       "</div>"
      ],
      "text/plain": [
       "             A         B         D         C\n",
       "2022-01-05 NaN  0.746623       NaN  0.669863\n",
       "2022-01-06 NaN       NaN  0.263347  1.623824\n",
       "2022-01-07 NaN  1.063780  0.359892       NaN\n",
       "2022-01-08 NaN  2.125288       NaN       NaN\n",
       "2022-01-09 NaN  0.988475  0.425598       NaN"
      ]
     },
     "execution_count": 90,
     "metadata": {},
     "output_type": "execute_result"
    }
   ],
   "source": [
    "df[df > 0]"
   ]
  },
  {
   "cell_type": "code",
   "execution_count": 105,
   "metadata": {},
   "outputs": [
    {
     "data": {
      "text/html": [
       "<div>\n",
       "<style scoped>\n",
       "    .dataframe tbody tr th:only-of-type {\n",
       "        vertical-align: middle;\n",
       "    }\n",
       "\n",
       "    .dataframe tbody tr th {\n",
       "        vertical-align: top;\n",
       "    }\n",
       "\n",
       "    .dataframe thead th {\n",
       "        text-align: right;\n",
       "    }\n",
       "</style>\n",
       "<table border=\"1\" class=\"dataframe\">\n",
       "  <thead>\n",
       "    <tr style=\"text-align: right;\">\n",
       "      <th></th>\n",
       "      <th>A</th>\n",
       "      <th>B</th>\n",
       "      <th>D</th>\n",
       "      <th>C</th>\n",
       "      <th>E</th>\n",
       "    </tr>\n",
       "  </thead>\n",
       "  <tbody>\n",
       "    <tr>\n",
       "      <th>2022-01-05</th>\n",
       "      <td>-0.862948</td>\n",
       "      <td>0.746623</td>\n",
       "      <td>-0.887232</td>\n",
       "      <td>0.669863</td>\n",
       "      <td>Khan</td>\n",
       "    </tr>\n",
       "    <tr>\n",
       "      <th>2022-01-07</th>\n",
       "      <td>-0.715966</td>\n",
       "      <td>1.063780</td>\n",
       "      <td>0.359892</td>\n",
       "      <td>-0.618176</td>\n",
       "      <td>Ujala</td>\n",
       "    </tr>\n",
       "    <tr>\n",
       "      <th>2022-01-08</th>\n",
       "      <td>-0.361654</td>\n",
       "      <td>2.125288</td>\n",
       "      <td>-1.649298</td>\n",
       "      <td>-1.102306</td>\n",
       "      <td>Rehman</td>\n",
       "    </tr>\n",
       "    <tr>\n",
       "      <th>2022-01-09</th>\n",
       "      <td>-1.327070</td>\n",
       "      <td>0.988475</td>\n",
       "      <td>0.425598</td>\n",
       "      <td>-1.055742</td>\n",
       "      <td>Baba</td>\n",
       "    </tr>\n",
       "  </tbody>\n",
       "</table>\n",
       "</div>"
      ],
      "text/plain": [
       "                   A         B         D         C       E\n",
       "2022-01-05 -0.862948  0.746623 -0.887232  0.669863    Khan\n",
       "2022-01-07 -0.715966  1.063780  0.359892 -0.618176   Ujala\n",
       "2022-01-08 -0.361654  2.125288 -1.649298 -1.102306  Rehman\n",
       "2022-01-09 -1.327070  0.988475  0.425598 -1.055742    Baba"
      ]
     },
     "execution_count": 105,
     "metadata": {},
     "output_type": "execute_result"
    }
   ],
   "source": [
    "df[df['B'] > 0 ]    \n"
   ]
  },
  {
   "cell_type": "code",
   "execution_count": 102,
   "metadata": {},
   "outputs": [
    {
     "data": {
      "text/html": [
       "<div>\n",
       "<style scoped>\n",
       "    .dataframe tbody tr th:only-of-type {\n",
       "        vertical-align: middle;\n",
       "    }\n",
       "\n",
       "    .dataframe tbody tr th {\n",
       "        vertical-align: top;\n",
       "    }\n",
       "\n",
       "    .dataframe thead th {\n",
       "        text-align: right;\n",
       "    }\n",
       "</style>\n",
       "<table border=\"1\" class=\"dataframe\">\n",
       "  <thead>\n",
       "    <tr style=\"text-align: right;\">\n",
       "      <th></th>\n",
       "      <th>A</th>\n",
       "      <th>B</th>\n",
       "      <th>D</th>\n",
       "      <th>C</th>\n",
       "      <th>E</th>\n",
       "    </tr>\n",
       "  </thead>\n",
       "  <tbody>\n",
       "    <tr>\n",
       "      <th>2022-01-05</th>\n",
       "      <td>-0.862948</td>\n",
       "      <td>0.746623</td>\n",
       "      <td>-0.887232</td>\n",
       "      <td>0.669863</td>\n",
       "      <td>Khan</td>\n",
       "    </tr>\n",
       "    <tr>\n",
       "      <th>2022-01-06</th>\n",
       "      <td>-1.584317</td>\n",
       "      <td>-1.373865</td>\n",
       "      <td>0.263347</td>\n",
       "      <td>1.623824</td>\n",
       "      <td>Jawad</td>\n",
       "    </tr>\n",
       "    <tr>\n",
       "      <th>2022-01-07</th>\n",
       "      <td>-0.715966</td>\n",
       "      <td>1.063780</td>\n",
       "      <td>0.359892</td>\n",
       "      <td>-0.618176</td>\n",
       "      <td>Ujala</td>\n",
       "    </tr>\n",
       "    <tr>\n",
       "      <th>2022-01-08</th>\n",
       "      <td>-0.361654</td>\n",
       "      <td>2.125288</td>\n",
       "      <td>-1.649298</td>\n",
       "      <td>-1.102306</td>\n",
       "      <td>Rehman</td>\n",
       "    </tr>\n",
       "    <tr>\n",
       "      <th>2022-01-09</th>\n",
       "      <td>-1.327070</td>\n",
       "      <td>0.988475</td>\n",
       "      <td>0.425598</td>\n",
       "      <td>-1.055742</td>\n",
       "      <td>Baba</td>\n",
       "    </tr>\n",
       "  </tbody>\n",
       "</table>\n",
       "</div>"
      ],
      "text/plain": [
       "                   A         B         D         C       E\n",
       "2022-01-05 -0.862948  0.746623 -0.887232  0.669863    Khan\n",
       "2022-01-06 -1.584317 -1.373865  0.263347  1.623824   Jawad\n",
       "2022-01-07 -0.715966  1.063780  0.359892 -0.618176   Ujala\n",
       "2022-01-08 -0.361654  2.125288 -1.649298 -1.102306  Rehman\n",
       "2022-01-09 -1.327070  0.988475  0.425598 -1.055742    Baba"
      ]
     },
     "execution_count": 102,
     "metadata": {},
     "output_type": "execute_result"
    }
   ],
   "source": [
    "# add new column\n",
    "df2['E'] = ['Khan', 'Jawad', 'Ujala', 'Rehman', 'Baba']\n",
    "df2"
   ]
  },
  {
   "cell_type": "code",
   "execution_count": 119,
   "metadata": {},
   "outputs": [
    {
     "data": {
      "text/html": [
       "<div>\n",
       "<style scoped>\n",
       "    .dataframe tbody tr th:only-of-type {\n",
       "        vertical-align: middle;\n",
       "    }\n",
       "\n",
       "    .dataframe tbody tr th {\n",
       "        vertical-align: top;\n",
       "    }\n",
       "\n",
       "    .dataframe thead th {\n",
       "        text-align: right;\n",
       "    }\n",
       "</style>\n",
       "<table border=\"1\" class=\"dataframe\">\n",
       "  <thead>\n",
       "    <tr style=\"text-align: right;\">\n",
       "      <th></th>\n",
       "      <th>A</th>\n",
       "      <th>B</th>\n",
       "      <th>D</th>\n",
       "      <th>C</th>\n",
       "      <th>E</th>\n",
       "    </tr>\n",
       "  </thead>\n",
       "  <tbody>\n",
       "    <tr>\n",
       "      <th>2022-01-05</th>\n",
       "      <td>-0.862948</td>\n",
       "      <td>0.746623</td>\n",
       "      <td>-0.887232</td>\n",
       "      <td>0.669863</td>\n",
       "      <td>Khan</td>\n",
       "    </tr>\n",
       "    <tr>\n",
       "      <th>2022-01-06</th>\n",
       "      <td>-1.584317</td>\n",
       "      <td>-1.373865</td>\n",
       "      <td>0.263347</td>\n",
       "      <td>1.623824</td>\n",
       "      <td>Jawad</td>\n",
       "    </tr>\n",
       "    <tr>\n",
       "      <th>2022-01-07</th>\n",
       "      <td>-0.715966</td>\n",
       "      <td>1.063780</td>\n",
       "      <td>0.359892</td>\n",
       "      <td>-0.618176</td>\n",
       "      <td>Ujala</td>\n",
       "    </tr>\n",
       "    <tr>\n",
       "      <th>2022-01-08</th>\n",
       "      <td>-0.361654</td>\n",
       "      <td>2.125288</td>\n",
       "      <td>-1.649298</td>\n",
       "      <td>-1.102306</td>\n",
       "      <td>Rehman</td>\n",
       "    </tr>\n",
       "    <tr>\n",
       "      <th>2022-01-09</th>\n",
       "      <td>-1.327070</td>\n",
       "      <td>0.988475</td>\n",
       "      <td>0.425598</td>\n",
       "      <td>-1.055742</td>\n",
       "      <td>Baba</td>\n",
       "    </tr>\n",
       "  </tbody>\n",
       "</table>\n",
       "</div>"
      ],
      "text/plain": [
       "                   A         B         D         C       E\n",
       "2022-01-05 -0.862948  0.746623 -0.887232  0.669863    Khan\n",
       "2022-01-06 -1.584317 -1.373865  0.263347  1.623824   Jawad\n",
       "2022-01-07 -0.715966  1.063780  0.359892 -0.618176   Ujala\n",
       "2022-01-08 -0.361654  2.125288 -1.649298 -1.102306  Rehman\n",
       "2022-01-09 -1.327070  0.988475  0.425598 -1.055742    Baba"
      ]
     },
     "execution_count": 119,
     "metadata": {},
     "output_type": "execute_result"
    }
   ],
   "source": [
    "# drop column and make new data set\n",
    "df.drop(['E'], axis=1)\n",
    "df"
   ]
  },
  {
   "cell_type": "markdown",
   "metadata": {},
   "source": [
    "#  *Assignment*\n",
    "* ### Find Mean of all values of column and store it into mean"
   ]
  },
  {
   "cell_type": "code",
   "execution_count": null,
   "metadata": {},
   "outputs": [],
   "source": [
    "# find mean of the row and store it into mean column\n",
    "df2['mean'] = df2.iloc[ :  , : 5].mean(axis=1)"
   ]
  },
  {
   "cell_type": "code",
   "execution_count": 113,
   "metadata": {},
   "outputs": [
    {
     "data": {
      "text/html": [
       "<div>\n",
       "<style scoped>\n",
       "    .dataframe tbody tr th:only-of-type {\n",
       "        vertical-align: middle;\n",
       "    }\n",
       "\n",
       "    .dataframe tbody tr th {\n",
       "        vertical-align: top;\n",
       "    }\n",
       "\n",
       "    .dataframe thead th {\n",
       "        text-align: right;\n",
       "    }\n",
       "</style>\n",
       "<table border=\"1\" class=\"dataframe\">\n",
       "  <thead>\n",
       "    <tr style=\"text-align: right;\">\n",
       "      <th></th>\n",
       "      <th>A</th>\n",
       "      <th>B</th>\n",
       "      <th>D</th>\n",
       "      <th>C</th>\n",
       "      <th>E</th>\n",
       "      <th>mean</th>\n",
       "    </tr>\n",
       "  </thead>\n",
       "  <tbody>\n",
       "    <tr>\n",
       "      <th>2022-01-05</th>\n",
       "      <td>-0.862948</td>\n",
       "      <td>0.746623</td>\n",
       "      <td>-0.887232</td>\n",
       "      <td>0.669863</td>\n",
       "      <td>Khan</td>\n",
       "      <td>-0.083424</td>\n",
       "    </tr>\n",
       "    <tr>\n",
       "      <th>2022-01-06</th>\n",
       "      <td>-1.584317</td>\n",
       "      <td>-1.373865</td>\n",
       "      <td>0.263347</td>\n",
       "      <td>1.623824</td>\n",
       "      <td>Jawad</td>\n",
       "      <td>-0.267753</td>\n",
       "    </tr>\n",
       "    <tr>\n",
       "      <th>2022-01-07</th>\n",
       "      <td>-0.715966</td>\n",
       "      <td>1.063780</td>\n",
       "      <td>0.359892</td>\n",
       "      <td>-0.618176</td>\n",
       "      <td>Ujala</td>\n",
       "      <td>0.022383</td>\n",
       "    </tr>\n",
       "    <tr>\n",
       "      <th>2022-01-08</th>\n",
       "      <td>-0.361654</td>\n",
       "      <td>2.125288</td>\n",
       "      <td>-1.649298</td>\n",
       "      <td>-1.102306</td>\n",
       "      <td>Rehman</td>\n",
       "      <td>-0.246993</td>\n",
       "    </tr>\n",
       "    <tr>\n",
       "      <th>2022-01-09</th>\n",
       "      <td>-1.327070</td>\n",
       "      <td>0.988475</td>\n",
       "      <td>0.425598</td>\n",
       "      <td>-1.055742</td>\n",
       "      <td>Baba</td>\n",
       "      <td>-0.242185</td>\n",
       "    </tr>\n",
       "  </tbody>\n",
       "</table>\n",
       "</div>"
      ],
      "text/plain": [
       "                   A         B         D         C       E      mean\n",
       "2022-01-05 -0.862948  0.746623 -0.887232  0.669863    Khan -0.083424\n",
       "2022-01-06 -1.584317 -1.373865  0.263347  1.623824   Jawad -0.267753\n",
       "2022-01-07 -0.715966  1.063780  0.359892 -0.618176   Ujala  0.022383\n",
       "2022-01-08 -0.361654  2.125288 -1.649298 -1.102306  Rehman -0.246993\n",
       "2022-01-09 -1.327070  0.988475  0.425598 -1.055742    Baba -0.242185"
      ]
     },
     "execution_count": 113,
     "metadata": {},
     "output_type": "execute_result"
    }
   ],
   "source": [
    "df2"
   ]
  },
  {
   "cell_type": "code",
   "execution_count": null,
   "metadata": {},
   "outputs": [],
   "source": []
  }
 ],
 "metadata": {
  "interpreter": {
   "hash": "2be5faf79681da6f2a61fdfdd5405d65d042280f7fba6178067603e3a2925119"
  },
  "kernelspec": {
   "display_name": "Python 3.10.2 64-bit",
   "language": "python",
   "name": "python3"
  },
  "language_info": {
   "codemirror_mode": {
    "name": "ipython",
    "version": 3
   },
   "file_extension": ".py",
   "mimetype": "text/x-python",
   "name": "python",
   "nbconvert_exporter": "python",
   "pygments_lexer": "ipython3",
   "version": "3.10.2"
  },
  "orig_nbformat": 4
 },
 "nbformat": 4,
 "nbformat_minor": 2
}
