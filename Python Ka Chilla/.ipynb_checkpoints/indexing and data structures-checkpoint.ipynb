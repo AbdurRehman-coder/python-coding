{
 "cells": [
  {
   "cell_type": "markdown",
   "id": "cbb4e87a",
   "metadata": {},
   "source": [
    "# String Indexing"
   ]
  },
  {
   "cell_type": "code",
   "execution_count": 1,
   "id": "a5ac369c",
   "metadata": {},
   "outputs": [
    {
     "name": "stdout",
     "output_type": "stream",
     "text": [
      "Samosa Pakorra\n"
     ]
    }
   ],
   "source": [
    "a = 'Samosa Pakorra'\n",
    "print(a)"
   ]
  },
  {
   "cell_type": "code",
   "execution_count": 2,
   "id": "850fddaa",
   "metadata": {},
   "outputs": [
    {
     "data": {
      "text/plain": [
       "'r'"
      ]
     },
     "execution_count": 2,
     "metadata": {},
     "output_type": "execute_result"
    }
   ],
   "source": [
    "a[12]"
   ]
  },
  {
   "cell_type": "code",
   "execution_count": 3,
   "id": "1fc03348",
   "metadata": {},
   "outputs": [
    {
     "data": {
      "text/plain": [
       "'a'"
      ]
     },
     "execution_count": 3,
     "metadata": {},
     "output_type": "execute_result"
    }
   ],
   "source": [
    "a[13]"
   ]
  },
  {
   "cell_type": "code",
   "execution_count": 4,
   "id": "ab69563b",
   "metadata": {},
   "outputs": [
    {
     "name": "stdout",
     "output_type": "stream",
     "text": [
      "a\n",
      "r\n"
     ]
    }
   ],
   "source": [
    "# -1 start printing from last\n",
    "print(a[-1])\n",
    "print(a[-2])\n"
   ]
  },
  {
   "cell_type": "code",
   "execution_count": 5,
   "id": "d29c0d26",
   "metadata": {},
   "outputs": [
    {
     "data": {
      "text/plain": [
       "14"
      ]
     },
     "execution_count": 5,
     "metadata": {},
     "output_type": "execute_result"
    }
   ],
   "source": [
    "# length of string\n",
    "len(a)"
   ]
  },
  {
   "cell_type": "code",
   "execution_count": 6,
   "id": "cf9435bd",
   "metadata": {},
   "outputs": [
    {
     "name": "stdout",
     "output_type": "stream",
     "text": [
      "Samos\n",
      "Sam\n"
     ]
    }
   ],
   "source": [
    "# start from zero upto 5, But 5 is exclusive mean 5 no will not count\n",
    "print(a[0:5]) #Samos\n",
    "print(a[:3])   # Last digit is not included"
   ]
  },
  {
   "cell_type": "code",
   "execution_count": 7,
   "id": "289e0dd1",
   "metadata": {},
   "outputs": [
    {
     "name": "stdout",
     "output_type": "stream",
     "text": [
      "Samo\n",
      "\n"
     ]
    }
   ],
   "source": [
    "print(a[ : -10])\n",
    "print(a[ -6 : -10])"
   ]
  },
  {
   "cell_type": "markdown",
   "id": "e3f24aa5",
   "metadata": {},
   "source": [
    "# String Methods"
   ]
  },
  {
   "cell_type": "code",
   "execution_count": 8,
   "id": "be95cc0c",
   "metadata": {},
   "outputs": [
    {
     "data": {
      "text/plain": [
       "'baryani'"
      ]
     },
     "execution_count": 8,
     "metadata": {},
     "output_type": "execute_result"
    }
   ],
   "source": [
    "food = 'baryani'\n",
    "food"
   ]
  },
  {
   "cell_type": "code",
   "execution_count": 9,
   "id": "f9c6242f",
   "metadata": {},
   "outputs": [
    {
     "data": {
      "text/plain": [
       "7"
      ]
     },
     "execution_count": 9,
     "metadata": {},
     "output_type": "execute_result"
    }
   ],
   "source": [
    "# find length of baryani\n",
    "len(food)"
   ]
  },
  {
   "cell_type": "code",
   "execution_count": 10,
   "id": "41da132e",
   "metadata": {},
   "outputs": [
    {
     "data": {
      "text/plain": [
       "'Baryani'"
      ]
     },
     "execution_count": 10,
     "metadata": {},
     "output_type": "execute_result"
    }
   ],
   "source": [
    "# it will capitalize the words first letter\n",
    "food.capitalize()"
   ]
  },
  {
   "cell_type": "code",
   "execution_count": 11,
   "id": "6c3628de",
   "metadata": {},
   "outputs": [
    {
     "data": {
      "text/plain": [
       "'We are learning python with baba aammar'"
      ]
     },
     "execution_count": 11,
     "metadata": {},
     "output_type": "execute_result"
    }
   ],
   "source": [
    "\n",
    "sentence = 'we are Learning Python with Baba Aammar'\n",
    "# capitalize first letter and if already then it become small\n",
    "sentence.capitalize()"
   ]
  },
  {
   "cell_type": "code",
   "execution_count": 12,
   "id": "a16bc160",
   "metadata": {},
   "outputs": [
    {
     "data": {
      "text/plain": [
       "'BARYANI'"
      ]
     },
     "execution_count": 12,
     "metadata": {},
     "output_type": "execute_result"
    }
   ],
   "source": [
    "# uppercase letter\n",
    "food.upper()"
   ]
  },
  {
   "cell_type": "code",
   "execution_count": 13,
   "id": "7889b81d",
   "metadata": {},
   "outputs": [
    {
     "data": {
      "text/plain": [
       "'baryani'"
      ]
     },
     "execution_count": 13,
     "metadata": {},
     "output_type": "execute_result"
    }
   ],
   "source": [
    "#lower case letter\n",
    "food.lower()"
   ]
  },
  {
   "cell_type": "code",
   "execution_count": 14,
   "id": "d466771c",
   "metadata": {},
   "outputs": [
    {
     "data": {
      "text/plain": [
       "'sharyani'"
      ]
     },
     "execution_count": 14,
     "metadata": {},
     "output_type": "execute_result"
    }
   ],
   "source": [
    "# we can replace letter inside string\n",
    "food.replace('ba', 'sha')"
   ]
  },
  {
   "cell_type": "code",
   "execution_count": 15,
   "id": "c408b1b7",
   "metadata": {},
   "outputs": [
    {
     "data": {
      "text/plain": [
       "3"
      ]
     },
     "execution_count": 15,
     "metadata": {},
     "output_type": "execute_result"
    }
   ],
   "source": [
    "# counting a specific alphabet in a string\n",
    "course = 'Learning python with baba Aammar'\n",
    "course.count('n')"
   ]
  },
  {
   "cell_type": "markdown",
   "id": "76d6485d",
   "metadata": {},
   "source": [
    " - **Find index in a string**"
   ]
  },
  {
   "cell_type": "code",
   "execution_count": 16,
   "id": "f4d04234",
   "metadata": {},
   "outputs": [
    {
     "data": {
      "text/plain": [
       "10"
      ]
     },
     "execution_count": 16,
     "metadata": {},
     "output_type": "execute_result"
    }
   ],
   "source": [
    "#find index of a letter in a string\n",
    "course.find('y')"
   ]
  },
  {
   "cell_type": "markdown",
   "id": "71517931",
   "metadata": {},
   "source": [
    "#### Split Strings"
   ]
  },
  {
   "cell_type": "code",
   "execution_count": 17,
   "id": "5ac53afb",
   "metadata": {},
   "outputs": [
    {
     "data": {
      "text/plain": [
       "['I', 'love', 'chai,', 'Karrahi,', 'baryani,', 'Rayata']"
      ]
     },
     "execution_count": 17,
     "metadata": {},
     "output_type": "execute_result"
    }
   ],
   "source": [
    "menu_list = 'I love chai, Karrahi, baryani, Rayata'\n",
    "menu_list.split(' ') # split if there is space"
   ]
  },
  {
   "cell_type": "code",
   "execution_count": 18,
   "id": "63392f1a",
   "metadata": {},
   "outputs": [
    {
     "name": "stdout",
     "output_type": "stream",
     "text": [
      "<class 'list'>\n"
     ]
    }
   ],
   "source": [
    "# split(): split the string and convert it into List\n",
    "a = menu_list.split(',')\n",
    "print(type(a))"
   ]
  },
  {
   "cell_type": "markdown",
   "id": "04cb4801",
   "metadata": {},
   "source": [
    "## Tuples\n",
    "* Order collections of elements\n",
    "* enclosed in () round braces /  parenthesis\n",
    "* Different kind of elements can be stored\n",
    "* Once value is stored in Tuple it can't be change [immurtable]"
   ]
  },
  {
   "cell_type": "code",
   "execution_count": 19,
   "id": "6c0b5848",
   "metadata": {},
   "outputs": [
    {
     "data": {
      "text/plain": [
       "(3, 'python', 3.14, False)"
      ]
     },
     "execution_count": 19,
     "metadata": {},
     "output_type": "execute_result"
    }
   ],
   "source": [
    "tup1 = (3, 'python', 3.14, False)\n",
    "tup1"
   ]
  },
  {
   "cell_type": "code",
   "execution_count": 20,
   "id": "99554269",
   "metadata": {},
   "outputs": [
    {
     "data": {
      "text/plain": [
       "0"
      ]
     },
     "execution_count": 20,
     "metadata": {},
     "output_type": "execute_result"
    }
   ],
   "source": [
    "tup1.count('o')"
   ]
  },
  {
   "cell_type": "code",
   "execution_count": 21,
   "id": "f8c09b6f",
   "metadata": {},
   "outputs": [
    {
     "data": {
      "text/plain": [
       "tuple"
      ]
     },
     "execution_count": 21,
     "metadata": {},
     "output_type": "execute_result"
    }
   ],
   "source": [
    "# Type of Tuple\n",
    "type(tup1)"
   ]
  },
  {
   "cell_type": "markdown",
   "id": "ae1ddbe6",
   "metadata": {},
   "source": [
    "#### Indexing in Tuple"
   ]
  },
  {
   "cell_type": "code",
   "execution_count": 22,
   "id": "6fa9c2e3",
   "metadata": {},
   "outputs": [
    {
     "data": {
      "text/plain": [
       "'python'"
      ]
     },
     "execution_count": 22,
     "metadata": {},
     "output_type": "execute_result"
    }
   ],
   "source": [
    "tup1[1]"
   ]
  },
  {
   "cell_type": "code",
   "execution_count": 23,
   "id": "f9e42c4f",
   "metadata": {},
   "outputs": [
    {
     "data": {
      "text/plain": [
       "False"
      ]
     },
     "execution_count": 23,
     "metadata": {},
     "output_type": "execute_result"
    }
   ],
   "source": [
    "tup1[-1]"
   ]
  },
  {
   "cell_type": "code",
   "execution_count": 24,
   "id": "9ecc8245",
   "metadata": {},
   "outputs": [
    {
     "data": {
      "text/plain": [
       "3.14"
      ]
     },
     "execution_count": 24,
     "metadata": {},
     "output_type": "execute_result"
    }
   ],
   "source": [
    "tup1[-2]"
   ]
  },
  {
   "cell_type": "code",
   "execution_count": 25,
   "id": "b9642bc4",
   "metadata": {},
   "outputs": [
    {
     "data": {
      "text/plain": [
       "(3, 'python')"
      ]
     },
     "execution_count": 25,
     "metadata": {},
     "output_type": "execute_result"
    }
   ],
   "source": [
    "tup1[0:2]"
   ]
  },
  {
   "cell_type": "code",
   "execution_count": 26,
   "id": "fb5cf6cc",
   "metadata": {},
   "outputs": [
    {
     "data": {
      "text/plain": [
       "(3, 'python', 3.14, False, 3, 'python', 3.14, False, 3, 'python', 3.14, False)"
      ]
     },
     "execution_count": 26,
     "metadata": {},
     "output_type": "execute_result"
    }
   ],
   "source": [
    "# print 3 time the tup1\n",
    "tup1 * 3"
   ]
  },
  {
   "cell_type": "code",
   "execution_count": 27,
   "id": "c358bcbb",
   "metadata": {},
   "outputs": [],
   "source": [
    "# [03:14:33]  why tup1 + 2 doesn't work,\n",
    "#  because it can only concatenate tuple to tuple\n",
    "\n",
    "# tup1 + 2"
   ]
  },
  {
   "cell_type": "code",
   "execution_count": 28,
   "id": "bcfeb97a",
   "metadata": {},
   "outputs": [
    {
     "data": {
      "text/plain": [
       "(3, 'python', 3.14, False, 34, True, 2.2, 'DL')"
      ]
     },
     "execution_count": 28,
     "metadata": {},
     "output_type": "execute_result"
    }
   ],
   "source": [
    "# Concatinating tuple (to add two or more tupe)\n",
    "tup2 = (34, True, 2.2, 'DL')\n",
    "tup2\n",
    "tup1 + tup2"
   ]
  },
  {
   "cell_type": "code",
   "execution_count": 29,
   "id": "58ca52a3",
   "metadata": {},
   "outputs": [
    {
     "data": {
      "text/plain": [
       "2"
      ]
     },
     "execution_count": 29,
     "metadata": {},
     "output_type": "execute_result"
    }
   ],
   "source": [
    "tup3 = (2, 5, 7, 7, 90, 12)\n",
    "min(tup3)"
   ]
  },
  {
   "cell_type": "code",
   "execution_count": 30,
   "id": "2185174b",
   "metadata": {},
   "outputs": [
    {
     "data": {
      "text/plain": [
       "90"
      ]
     },
     "execution_count": 30,
     "metadata": {},
     "output_type": "execute_result"
    }
   ],
   "source": [
    "max(tup3)"
   ]
  },
  {
   "cell_type": "code",
   "execution_count": 31,
   "id": "67b92331",
   "metadata": {},
   "outputs": [
    {
     "data": {
      "text/plain": [
       "(2, 5, 7, 7, 90, 12, 2, 5, 7, 7, 90, 12, 2, 5, 7, 7, 90, 12)"
      ]
     },
     "execution_count": 31,
     "metadata": {},
     "output_type": "execute_result"
    }
   ],
   "source": [
    "tup3 *3"
   ]
  },
  {
   "cell_type": "markdown",
   "id": "3370c60f",
   "metadata": {},
   "source": [
    " * three deshes used for line\n",
    "---"
   ]
  },
  {
   "cell_type": "markdown",
   "id": "836ec1f0",
   "metadata": {},
   "source": [
    "## List\n",
    "* Order collections of elements\n",
    "* Enclosed in [] square brackets\n",
    "* Mutatable, mean we can change elements of lists"
   ]
  },
  {
   "cell_type": "code",
   "execution_count": 32,
   "id": "722d921a",
   "metadata": {},
   "outputs": [
    {
     "data": {
      "text/plain": [
       "[23, 'Codanics', 0.2, False]"
      ]
     },
     "execution_count": 32,
     "metadata": {},
     "output_type": "execute_result"
    }
   ],
   "source": [
    "list1 = [23, 'Codanics', 0.2, False]\n",
    "list1"
   ]
  },
  {
   "cell_type": "code",
   "execution_count": 33,
   "id": "87bd93d6",
   "metadata": {},
   "outputs": [
    {
     "data": {
      "text/plain": [
       "list"
      ]
     },
     "execution_count": 33,
     "metadata": {},
     "output_type": "execute_result"
    }
   ],
   "source": [
    "# find type\n",
    "type(list1)"
   ]
  },
  {
   "cell_type": "code",
   "execution_count": 34,
   "id": "a31c17d7",
   "metadata": {},
   "outputs": [
    {
     "data": {
      "text/plain": [
       "4"
      ]
     },
     "execution_count": 34,
     "metadata": {},
     "output_type": "execute_result"
    }
   ],
   "source": [
    "#find the length of string\n",
    "len(list1)"
   ]
  },
  {
   "cell_type": "code",
   "execution_count": 35,
   "id": "c5178d42",
   "metadata": {},
   "outputs": [
    {
     "data": {
      "text/plain": [
       "[1, 22, 67, 90, 'We are learning python', {1: 'Codanics'}]"
      ]
     },
     "execution_count": 35,
     "metadata": {},
     "output_type": "execute_result"
    }
   ],
   "source": [
    "list2 = [1,22,67, 90, 'We are learning python', {1: 'Codanics'}]\n",
    "list2"
   ]
  },
  {
   "cell_type": "code",
   "execution_count": 36,
   "id": "688983e7",
   "metadata": {},
   "outputs": [
    {
     "data": {
      "text/plain": [
       "[23,\n",
       " 'Codanics',\n",
       " 0.2,\n",
       " False,\n",
       " 1,\n",
       " 22,\n",
       " 67,\n",
       " 90,\n",
       " 'We are learning python',\n",
       " {1: 'Codanics'}]"
      ]
     },
     "execution_count": 36,
     "metadata": {},
     "output_type": "execute_result"
    }
   ],
   "source": [
    "# list concatenation\n",
    "list1 + list2"
   ]
  },
  {
   "cell_type": "code",
   "execution_count": 37,
   "id": "2af5b83a",
   "metadata": {},
   "outputs": [
    {
     "data": {
      "text/plain": [
       "[23, 'Codanics', 0.2, False, 23, 'Codanics', 0.2, False]"
      ]
     },
     "execution_count": 37,
     "metadata": {},
     "output_type": "execute_result"
    }
   ],
   "source": [
    "# multiply list \n",
    "list1 * 2"
   ]
  },
  {
   "cell_type": "markdown",
   "id": "a31e7860",
   "metadata": {},
   "source": [
    "###### List built_in functions"
   ]
  },
  {
   "cell_type": "code",
   "execution_count": 44,
   "id": "39a2a9d9",
   "metadata": {},
   "outputs": [
    {
     "data": {
      "text/plain": [
       "[45, 3, 67, 200, 34, 2, 6, 88]"
      ]
     },
     "execution_count": 44,
     "metadata": {},
     "output_type": "execute_result"
    }
   ],
   "source": [
    "list3 = [45, 3, 67, 200, 34, 2, 6, 88]\n",
    "list3"
   ]
  },
  {
   "cell_type": "code",
   "execution_count": 45,
   "id": "94f2a42b",
   "metadata": {},
   "outputs": [
    {
     "data": {
      "text/plain": [
       "[45, 3, 67, 200, 34, 2, 6, 88, 70]"
      ]
     },
     "execution_count": 45,
     "metadata": {},
     "output_type": "execute_result"
    }
   ],
   "source": [
    "# append() add element at the end\n",
    "list3.append(70)\n",
    "list3"
   ]
  },
  {
   "cell_type": "code",
   "execution_count": 47,
   "id": "366f34eb",
   "metadata": {},
   "outputs": [
    {
     "data": {
      "text/plain": [
       "[45, 3, 67, 200, 34, 2, 6, 88, 70]"
      ]
     },
     "execution_count": 47,
     "metadata": {},
     "output_type": "execute_result"
    }
   ],
   "source": [
    "list3.copy()  # make copy of the list\n",
    "list3"
   ]
  },
  {
   "cell_type": "code",
   "execution_count": 50,
   "id": "372e428b",
   "metadata": {},
   "outputs": [
    {
     "data": {
      "text/plain": [
       "[45,\n",
       " 3,\n",
       " 67,\n",
       " 200,\n",
       " 34,\n",
       " 2,\n",
       " 6,\n",
       " 88,\n",
       " 70,\n",
       " 1,\n",
       " 22,\n",
       " 67,\n",
       " 90,\n",
       " 'We are learning python',\n",
       " {1: 'Codanics'},\n",
       " 1,\n",
       " 22,\n",
       " 67,\n",
       " 90,\n",
       " 'We are learning python',\n",
       " {1: 'Codanics'},\n",
       " 1,\n",
       " 22,\n",
       " 67,\n",
       " 90,\n",
       " 'We are learning python',\n",
       " {1: 'Codanics'}]"
      ]
     },
     "execution_count": 50,
     "metadata": {},
     "output_type": "execute_result"
    }
   ],
   "source": [
    "# extend the current list with other one\n",
    "list3.extend(list2)\n",
    "list3"
   ]
  },
  {
   "cell_type": "code",
   "execution_count": 52,
   "id": "079cb606",
   "metadata": {},
   "outputs": [
    {
     "data": {
      "text/plain": [
       "10"
      ]
     },
     "execution_count": 52,
     "metadata": {},
     "output_type": "execute_result"
    }
   ],
   "source": [
    "list3.index(22) #index of a specific value in list"
   ]
  },
  {
   "cell_type": "code",
   "execution_count": 54,
   "id": "047eabb8",
   "metadata": {},
   "outputs": [
    {
     "data": {
      "text/plain": [
       "[88,\n",
       " 45,\n",
       " 3,\n",
       " 67,\n",
       " 200,\n",
       " 34,\n",
       " 2,\n",
       " 6,\n",
       " 88,\n",
       " 70,\n",
       " 1,\n",
       " 22,\n",
       " 67,\n",
       " 90,\n",
       " 'We are learning python',\n",
       " {1: 'Codanics'},\n",
       " 1,\n",
       " 22,\n",
       " 67,\n",
       " 90,\n",
       " 'We are learning python',\n",
       " {1: 'Codanics'},\n",
       " 1,\n",
       " 22,\n",
       " 67,\n",
       " 90,\n",
       " 'We are learning python',\n",
       " {1: 'Codanics'}]"
      ]
     },
     "execution_count": 54,
     "metadata": {},
     "output_type": "execute_result"
    }
   ],
   "source": [
    "# insert(): insert value at a specific position\n",
    "list3.insert(0, 88)\n",
    "list3"
   ]
  },
  {
   "cell_type": "code",
   "execution_count": 56,
   "id": "c97558a2",
   "metadata": {},
   "outputs": [
    {
     "data": {
      "text/plain": [
       "[45,\n",
       " 3,\n",
       " 67,\n",
       " 200,\n",
       " 34,\n",
       " 2,\n",
       " 6,\n",
       " 88,\n",
       " 70,\n",
       " 1,\n",
       " 22,\n",
       " 67,\n",
       " 90,\n",
       " 'We are learning python',\n",
       " {1: 'Codanics'},\n",
       " 1,\n",
       " 22,\n",
       " 67,\n",
       " 90,\n",
       " 'We are learning python',\n",
       " {1: 'Codanics'},\n",
       " 1,\n",
       " 22,\n",
       " 67,\n",
       " 90,\n",
       " 'We are learning python',\n",
       " {1: 'Codanics'}]"
      ]
     },
     "execution_count": 56,
     "metadata": {},
     "output_type": "execute_result"
    }
   ],
   "source": [
    "list3.remove(88)\n",
    "list3"
   ]
  },
  {
   "cell_type": "markdown",
   "id": "55390e0a",
   "metadata": {},
   "source": [
    "**List.count()**\n",
    "- Count() method return of many times an object is occure in a list.\n",
    "\n",
    "- e.g: list1.count(object)\n",
    "\n",
    "here object is the thing whose count is to be return."
   ]
  },
  {
   "cell_type": "code",
   "execution_count": 62,
   "id": "3d56f6f0",
   "metadata": {},
   "outputs": [
    {
     "data": {
      "text/plain": [
       "2"
      ]
     },
     "execution_count": 62,
     "metadata": {},
     "output_type": "execute_result"
    }
   ],
   "source": [
    "list1 = [3, 4, 3, 5, 6, 4, 4, 8, 6, 6, 5]\n",
    "list1.count(5) # it count how many time 4 occurs in the list\n"
   ]
  },
  {
   "cell_type": "code",
   "execution_count": 63,
   "id": "be2093aa",
   "metadata": {},
   "outputs": [
    {
     "data": {
      "text/plain": [
       "3"
      ]
     },
     "execution_count": 63,
     "metadata": {},
     "output_type": "execute_result"
    }
   ],
   "source": [
    "list_name = ['a', 'r', 'a', 'z', 'r', 'a', 'z', 'z']\n",
    "list_name.count('z') # it count how many time 'z' occurs in the list"
   ]
  },
  {
   "cell_type": "markdown",
   "id": "a80bfc86",
   "metadata": {},
   "source": [
    "- ***Expection***\n",
    "- If more than one argument is passed into count() it return TypeError()"
   ]
  },
  {
   "cell_type": "code",
   "execution_count": 65,
   "id": "3c20b5c4",
   "metadata": {},
   "outputs": [
    {
     "ename": "TypeError",
     "evalue": "list.count() takes exactly one argument (2 given)",
     "output_type": "error",
     "traceback": [
      "\u001b[1;31m---------------------------------------------------------------------------\u001b[0m",
      "\u001b[1;31mTypeError\u001b[0m                                 Traceback (most recent call last)",
      "\u001b[1;32m~\\AppData\\Local\\Temp/ipykernel_4376/2490571529.py\u001b[0m in \u001b[0;36m<module>\u001b[1;34m\u001b[0m\n\u001b[1;32m----> 1\u001b[1;33m \u001b[0mlist_name\u001b[0m\u001b[1;33m.\u001b[0m\u001b[0mcount\u001b[0m\u001b[1;33m(\u001b[0m\u001b[1;34m'a'\u001b[0m\u001b[1;33m,\u001b[0m \u001b[1;34m'z'\u001b[0m\u001b[1;33m)\u001b[0m\u001b[1;33m\u001b[0m\u001b[1;33m\u001b[0m\u001b[0m\n\u001b[0m",
      "\u001b[1;31mTypeError\u001b[0m: list.count() takes exactly one argument (2 given)"
     ]
    }
   ],
   "source": [
    "list_name.count('a', 'z')"
   ]
  },
  {
   "cell_type": "markdown",
   "id": "cff82012",
   "metadata": {},
   "source": [
    "## Dictionaries\n",
    "- An unordered collection of elements\n",
    "- enclosed in {} curly brackets\n",
    "- key and value pair\n",
    "- Mutatable, we can change elements of dict"
   ]
  },
  {
   "cell_type": "code",
   "execution_count": 68,
   "id": "1c9b895e",
   "metadata": {},
   "outputs": [
    {
     "data": {
      "text/plain": [
       "{'Samosa': 10, 'Salad': 30, 'Raita': 10}"
      ]
     },
     "execution_count": 68,
     "metadata": {},
     "output_type": "execute_result"
    }
   ],
   "source": [
    "food1 = {'Samosa': 10, 'Salad' : 30, 'Raita': 10}\n",
    "food1"
   ]
  },
  {
   "cell_type": "code",
   "execution_count": 71,
   "id": "fa24b76f",
   "metadata": {},
   "outputs": [
    {
     "data": {
      "text/plain": [
       "dict_keys(['Samosa', 'Salad', 'Raita'])"
      ]
     },
     "execution_count": 71,
     "metadata": {},
     "output_type": "execute_result"
    }
   ],
   "source": [
    "# print keys of the dictionaries\n",
    "keys = food1.keys()\n",
    "keys"
   ]
  },
  {
   "cell_type": "code",
   "execution_count": 74,
   "id": "7c29df78",
   "metadata": {},
   "outputs": [
    {
     "data": {
      "text/plain": [
       "dict_values([10, 30, 10])"
      ]
     },
     "execution_count": 74,
     "metadata": {},
     "output_type": "execute_result"
    }
   ],
   "source": [
    "# print keys of the dictionaries\n",
    "values = food1.values()\n",
    "values"
   ]
  },
  {
   "cell_type": "code",
   "execution_count": 76,
   "id": "dec201a5",
   "metadata": {},
   "outputs": [
    {
     "data": {
      "text/plain": [
       "{'Samosa': 10, 'Salad': 30, 'Raita': 35}"
      ]
     },
     "execution_count": 76,
     "metadata": {},
     "output_type": "execute_result"
    }
   ],
   "source": [
    "# Update value\n",
    "food1['Raita'] = 35\n",
    "food1"
   ]
  },
  {
   "cell_type": "code",
   "execution_count": 86,
   "id": "f6aace1d",
   "metadata": {},
   "outputs": [
    {
     "data": {
      "text/plain": [
       "{'Samosa': 10, 'Salad': 30, 'Raita': 35, 'Brayani': 100}"
      ]
     },
     "execution_count": 86,
     "metadata": {},
     "output_type": "execute_result"
    }
   ],
   "source": [
    "food1.update({'Brayani': 100} )\n",
    "food1"
   ]
  },
  {
   "cell_type": "code",
   "execution_count": 90,
   "id": "3d9d2aa8",
   "metadata": {},
   "outputs": [
    {
     "data": {
      "text/plain": [
       "{'Samosa': 10, 'Salad': 30, 'Raita': 15, 'Brayani': 100}"
      ]
     },
     "execution_count": 90,
     "metadata": {},
     "output_type": "execute_result"
    }
   ],
   "source": [
    "food1.update({'Raita': 15} )\n",
    "food1"
   ]
  },
  {
   "cell_type": "code",
   "execution_count": 92,
   "id": "4cc48a13",
   "metadata": {},
   "outputs": [
    {
     "data": {
      "text/plain": [
       "{1: 'Baba Ammar', 2: 'Rehman', 3: 'Machine Learning ka Chilla'}"
      ]
     },
     "execution_count": 92,
     "metadata": {},
     "output_type": "execute_result"
    }
   ],
   "source": [
    "food2 = {1 : 'Baba Ammar', 2 : 'Rehman', 3 : 'Machine Learning ka Chilla'}\n",
    "food2"
   ]
  },
  {
   "cell_type": "code",
   "execution_count": 96,
   "id": "ec4f3dfe",
   "metadata": {},
   "outputs": [
    {
     "data": {
      "text/plain": [
       "{'Samosa': 10,\n",
       " 'Salad': 30,\n",
       " 'Raita': 15,\n",
       " 'Brayani': 100,\n",
       " 1: 'Baba Ammar',\n",
       " 2: 'Rehman',\n",
       " 3: 'Machine Learning ka Chilla'}"
      ]
     },
     "execution_count": 96,
     "metadata": {},
     "output_type": "execute_result"
    }
   ],
   "source": [
    "# Concatenation of two dictt\n",
    "food1.update(food2)\n",
    "food1"
   ]
  },
  {
   "cell_type": "code",
   "execution_count": 100,
   "id": "d02e90c2",
   "metadata": {},
   "outputs": [
    {
     "data": {
      "text/plain": [
       "{'Samosa': 10,\n",
       " 'Salad': 30,\n",
       " 'Raita': 15,\n",
       " 'Brayani': 100,\n",
       " 1: 'Baba Ammar',\n",
       " 2: 'Rehman',\n",
       " 3: 'Machine Learning ka Chilla'}"
      ]
     },
     "execution_count": 100,
     "metadata": {},
     "output_type": "execute_result"
    }
   ],
   "source": [
    "# make copy\n",
    "food1.copy()\n",
    "food1"
   ]
  },
  {
   "cell_type": "code",
   "execution_count": 109,
   "id": "8b97fe29",
   "metadata": {},
   "outputs": [
    {
     "data": {
      "text/plain": [
       "{'S': None, 'a': None, 'l': None, 'd': None}"
      ]
     },
     "execution_count": 109,
     "metadata": {},
     "output_type": "execute_result"
    }
   ],
   "source": [
    "\n",
    "a =food1.fromkeys('Salad')\n",
    "a"
   ]
  },
  {
   "cell_type": "code",
   "execution_count": 114,
   "id": "67ed1ae4",
   "metadata": {},
   "outputs": [
    {
     "data": {
      "text/plain": [
       "'Baba Ammar'"
      ]
     },
     "execution_count": 114,
     "metadata": {},
     "output_type": "execute_result"
    }
   ],
   "source": [
    "# get key and return its value\n",
    "g = food1.get(1)\n",
    "g"
   ]
  },
  {
   "cell_type": "code",
   "execution_count": 129,
   "id": "2f36d910",
   "metadata": {},
   "outputs": [
    {
     "data": {
      "text/plain": [
       "dict_items([('Samosa', 10), ('Salad', 30), ('Raita', 15), ('Brayani', 100), (1, 'Baba Ammar'), (2, 'Rehman')])"
      ]
     },
     "execution_count": 129,
     "metadata": {},
     "output_type": "execute_result"
    }
   ],
   "source": [
    "# it returns list of Tuple of key value pair\n",
    "i = food1.items()\n",
    "i"
   ]
  },
  {
   "cell_type": "code",
   "execution_count": 156,
   "id": "ebd48b40",
   "metadata": {},
   "outputs": [
    {
     "name": "stdout",
     "output_type": "stream",
     "text": [
      "{'Salad': 30, 'Raita': 15, 'Brayani': 100, 1: 'Baba Ammar'}\n",
      "Baba Ammar\n"
     ]
    }
   ],
   "source": [
    "# pop(): pop the value of the key that we give\n",
    "print(food1)\n",
    "x = food1.pop(1)\n",
    "print(x)\n"
   ]
  },
  {
   "cell_type": "code",
   "execution_count": null,
   "id": "13eb7c79",
   "metadata": {},
   "outputs": [],
   "source": [
    "food1.clear() # clear the dictionaries"
   ]
  },
  {
   "cell_type": "markdown",
   "id": "6867a744",
   "metadata": {},
   "source": [
    "## Set\n",
    "- Unordered and Unindexed\n",
    "- enclosed in {} curely braces\n",
    "- No duplicate value is allowed\n"
   ]
  },
  {
   "cell_type": "code",
   "execution_count": 123,
   "id": "00cdd26d",
   "metadata": {},
   "outputs": [
    {
     "data": {
      "text/plain": [
       "{2, 5, 'Machine Learning', 'Toyota', True}"
      ]
     },
     "execution_count": 123,
     "metadata": {},
     "output_type": "execute_result"
    }
   ],
   "source": [
    "set1 = {2, 5, 'Toyota', 'Machine Learning', True}\n",
    "set1"
   ]
  },
  {
   "cell_type": "code",
   "execution_count": 125,
   "id": "c71437c2",
   "metadata": {},
   "outputs": [
    {
     "data": {
      "text/plain": [
       "{2, 5, 'Deep Learning', 'Machine Learning', 'Toyota', True}"
      ]
     },
     "execution_count": 125,
     "metadata": {},
     "output_type": "execute_result"
    }
   ],
   "source": [
    "set1.add('Deep Learning')\n",
    "set1"
   ]
  },
  {
   "cell_type": "code",
   "execution_count": 127,
   "id": "78136a45",
   "metadata": {},
   "outputs": [
    {
     "data": {
      "text/plain": [
       "{2, 5, 'Deep Learning', 'Machine Learning', 'Toyota', True}"
      ]
     },
     "execution_count": 127,
     "metadata": {},
     "output_type": "execute_result"
    }
   ],
   "source": [
    "set1.add(2) # 2 is already there, so it will not update the set\n",
    "set1"
   ]
  },
  {
   "cell_type": "code",
   "execution_count": 130,
   "id": "d28c530f",
   "metadata": {},
   "outputs": [
    {
     "data": {
      "text/plain": [
       "{2, 5, 'Deep Learning', 'Machine Learning', 'Toyota', True}"
      ]
     },
     "execution_count": 130,
     "metadata": {},
     "output_type": "execute_result"
    }
   ],
   "source": [
    "# Make copy of the set\n",
    "set1.copy()\n",
    "set1"
   ]
  },
  {
   "cell_type": "code",
   "execution_count": 141,
   "id": "f9c292d2",
   "metadata": {},
   "outputs": [
    {
     "data": {
      "text/plain": [
       "{'Deep Learning', 'Toyota', True}"
      ]
     },
     "execution_count": 141,
     "metadata": {},
     "output_type": "execute_result"
    }
   ],
   "source": [
    "# discard()\n",
    "set1.discard(5)\n",
    "set1"
   ]
  },
  {
   "cell_type": "code",
   "execution_count": 145,
   "id": "2162e11e",
   "metadata": {},
   "outputs": [],
   "source": [
    "\n",
    "set3 = {4, 7, 2, 5, 2, 8}\n",
    "set4 = {6, 10, 2, 8}\n"
   ]
  },
  {
   "cell_type": "code",
   "execution_count": 147,
   "id": "03afd28b",
   "metadata": {},
   "outputs": [
    {
     "data": {
      "text/plain": [
       "{4, 5, 7}"
      ]
     },
     "execution_count": 147,
     "metadata": {},
     "output_type": "execute_result"
    }
   ],
   "source": [
    "# find the difference b/w two sets\n",
    "set3.difference(set4)"
   ]
  },
  {
   "cell_type": "code",
   "execution_count": 157,
   "id": "54e156a0",
   "metadata": {},
   "outputs": [
    {
     "data": {
      "text/plain": [
       "{2, 8}"
      ]
     },
     "execution_count": 157,
     "metadata": {},
     "output_type": "execute_result"
    }
   ],
   "source": [
    "# Intersection()\n",
    "set3.intersection(set4)"
   ]
  },
  {
   "cell_type": "code",
   "execution_count": 158,
   "id": "25c2ea7b",
   "metadata": {},
   "outputs": [
    {
     "data": {
      "text/plain": [
       "False"
      ]
     },
     "execution_count": 158,
     "metadata": {},
     "output_type": "execute_result"
    }
   ],
   "source": [
    "# isdisjoint()\n",
    "set3.isdisjoint(set4)"
   ]
  },
  {
   "cell_type": "code",
   "execution_count": 160,
   "id": "36aa276f",
   "metadata": {},
   "outputs": [
    {
     "data": {
      "text/plain": [
       "False"
      ]
     },
     "execution_count": 160,
     "metadata": {},
     "output_type": "execute_result"
    }
   ],
   "source": [
    "set4.issubset(set3)"
   ]
  },
  {
   "cell_type": "code",
   "execution_count": 161,
   "id": "d2fcfcc3",
   "metadata": {},
   "outputs": [
    {
     "data": {
      "text/plain": [
       "{2, 4, 5, 7, 8}"
      ]
     },
     "execution_count": 161,
     "metadata": {},
     "output_type": "execute_result"
    }
   ],
   "source": [
    "set3"
   ]
  },
  {
   "cell_type": "code",
   "execution_count": 164,
   "id": "a589c336",
   "metadata": {},
   "outputs": [
    {
     "data": {
      "text/plain": [
       "{5, 7, 8}"
      ]
     },
     "execution_count": 164,
     "metadata": {},
     "output_type": "execute_result"
    }
   ],
   "source": [
    "# pop out the first element from the set\n",
    "set3.pop()\n",
    "set3"
   ]
  },
  {
   "cell_type": "code",
   "execution_count": 166,
   "id": "f86a7a17",
   "metadata": {},
   "outputs": [
    {
     "data": {
      "text/plain": [
       "{2, 5, 6, 7, 8, 10}"
      ]
     },
     "execution_count": 166,
     "metadata": {},
     "output_type": "execute_result"
    }
   ],
   "source": [
    "# Union() of two sets\n",
    "set3.union(set4)"
   ]
  },
  {
   "cell_type": "code",
   "execution_count": 175,
   "id": "915e7e54",
   "metadata": {},
   "outputs": [
    {
     "data": {
      "text/plain": [
       "set()"
      ]
     },
     "execution_count": 175,
     "metadata": {},
     "output_type": "execute_result"
    }
   ],
   "source": [
    "# clear the set\n",
    "set4.clear()\n",
    "set4"
   ]
  },
  {
   "cell_type": "code",
   "execution_count": null,
   "id": "443558e3",
   "metadata": {},
   "outputs": [],
   "source": []
  }
 ],
 "metadata": {
  "kernelspec": {
   "display_name": "Python 3 (ipykernel)",
   "language": "python",
   "name": "python3"
  },
  "language_info": {
   "codemirror_mode": {
    "name": "ipython",
    "version": 3
   },
   "file_extension": ".py",
   "mimetype": "text/x-python",
   "name": "python",
   "nbconvert_exporter": "python",
   "pygments_lexer": "ipython3",
   "version": "3.9.7"
  }
 },
 "nbformat": 4,
 "nbformat_minor": 5
}
