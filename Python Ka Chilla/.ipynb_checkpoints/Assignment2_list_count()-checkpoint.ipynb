{
 "cells": [
  {
   "cell_type": "markdown",
   "id": "bc49c9d1",
   "metadata": {},
   "source": [
    "### Assignment Project"
   ]
  },
  {
   "cell_type": "markdown",
   "id": "6b208723",
   "metadata": {},
   "source": [
    "### List.count()\n",
    "- Count() method return of many times an object is occure in a list.\n",
    " \n",
    "- e.g: list1.count(object)\n",
    " \n",
    "      here object is the thing whose count is to be return."
   ]
  },
  {
   "cell_type": "code",
   "execution_count": 5,
   "id": "1315e312",
   "metadata": {},
   "outputs": [
    {
     "data": {
      "text/plain": [
       "3"
      ]
     },
     "execution_count": 5,
     "metadata": {},
     "output_type": "execute_result"
    }
   ],
   "source": [
    "list1 = [3, 4, 3, 5, 6, 4, 4, 8, 6, 6, 5]\n",
    "list1.count(4) # it count how many time 4 occurs in the list\n"
   ]
  },
  {
   "cell_type": "code",
   "execution_count": 7,
   "id": "69d9d2b4",
   "metadata": {},
   "outputs": [
    {
     "data": {
      "text/plain": [
       "3"
      ]
     },
     "execution_count": 7,
     "metadata": {},
     "output_type": "execute_result"
    }
   ],
   "source": [
    "list_name = ['a', 'r', 'a', 'z', 'r', 'a', 'z', 'z']\n",
    "list_name.count('z') # it count how many time 'z' occurs in the list"
   ]
  },
  {
   "cell_type": "markdown",
   "id": "9cdf9184",
   "metadata": {},
   "source": [
    "### Expection\n",
    "* If more than one argument is passed into count() it return TypeError()"
   ]
  },
  {
   "cell_type": "code",
   "execution_count": 10,
   "id": "09831d38",
   "metadata": {},
   "outputs": [
    {
     "ename": "TypeError",
     "evalue": "list.count() takes exactly one argument (2 given)",
     "output_type": "error",
     "traceback": [
      "\u001b[1;31m---------------------------------------------------------------------------\u001b[0m",
      "\u001b[1;31mTypeError\u001b[0m                                 Traceback (most recent call last)",
      "\u001b[1;32m~\\AppData\\Local\\Temp/ipykernel_6212/2490571529.py\u001b[0m in \u001b[0;36m<module>\u001b[1;34m\u001b[0m\n\u001b[1;32m----> 1\u001b[1;33m \u001b[0mlist_name\u001b[0m\u001b[1;33m.\u001b[0m\u001b[0mcount\u001b[0m\u001b[1;33m(\u001b[0m\u001b[1;34m'a'\u001b[0m\u001b[1;33m,\u001b[0m \u001b[1;34m'z'\u001b[0m\u001b[1;33m)\u001b[0m\u001b[1;33m\u001b[0m\u001b[1;33m\u001b[0m\u001b[0m\n\u001b[0m",
      "\u001b[1;31mTypeError\u001b[0m: list.count() takes exactly one argument (2 given)"
     ]
    }
   ],
   "source": [
    "list_name.count('a', 'z')"
   ]
  },
  {
   "cell_type": "markdown",
   "id": "179c1d6d",
   "metadata": {},
   "source": []
  }
 ],
 "metadata": {
  "kernelspec": {
   "display_name": "Python 3 (ipykernel)",
   "language": "python",
   "name": "python3"
  },
  "language_info": {
   "codemirror_mode": {
    "name": "ipython",
    "version": 3
   },
   "file_extension": ".py",
   "mimetype": "text/x-python",
   "name": "python",
   "nbconvert_exporter": "python",
   "pygments_lexer": "ipython3",
   "version": "3.9.7"
  }
 },
 "nbformat": 4,
 "nbformat_minor": 5
}
