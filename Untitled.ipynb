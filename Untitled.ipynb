{
 "cells": [
  {
   "cell_type": "code",
   "execution_count": 2,
   "id": "dec64dc1",
   "metadata": {},
   "outputs": [
    {
     "name": "stdout",
     "output_type": "stream",
     "text": [
      "<class 'complex'>\n"
     ]
    }
   ],
   "source": [
    "print(type(1+1j))"
   ]
  },
  {
   "cell_type": "code",
   "execution_count": 3,
   "id": "0209b99d",
   "metadata": {},
   "outputs": [
    {
     "name": "stdout",
     "output_type": "stream",
     "text": [
      "6 <class 'list'>\n",
      "[1, 2, 'string', 'list', 'tuple', (3+2j)]\n"
     ]
    }
   ],
   "source": [
    "x = [1,2,'string','list','tuple',3+2j]\n",
    "print(len(x), type(x))\n",
    "print(x)"
   ]
  },
  {
   "cell_type": "code",
   "execution_count": 5,
   "id": "d7fc9a68",
   "metadata": {},
   "outputs": [
    {
     "name": "stdout",
     "output_type": "stream",
     "text": [
      "[1, 2, '23', '23', 'string', 'list', 'tuple', (3+2j)]\n"
     ]
    }
   ],
   "source": [
    "x.insert(2, \"23\")\n",
    "print(x)"
   ]
  },
  {
   "cell_type": "code",
   "execution_count": 7,
   "id": "07ffc882",
   "metadata": {},
   "outputs": [
    {
     "name": "stdout",
     "output_type": "stream",
     "text": [
      "[1, 2, '23', 'string', '23', 'string', 'list', 'tuple', (3+2j)]\n"
     ]
    }
   ],
   "source": [
    "x.insert(3,'string')\n",
    "print(x)"
   ]
  },
  {
   "cell_type": "code",
   "execution_count": 8,
   "id": "78ea86c4",
   "metadata": {},
   "outputs": [
    {
     "name": "stdout",
     "output_type": "stream",
     "text": [
      "[1, 2, '23', 'string', 'Do not get sad ;p', '23', 'string', 'list', 'tuple', (3+2j)]\n"
     ]
    }
   ],
   "source": [
    "x.insert(4,'Do not get sad ;p')\n",
    "print(x)"
   ]
  },
  {
   "cell_type": "code",
   "execution_count": 9,
   "id": "17ebe15b",
   "metadata": {},
   "outputs": [
    {
     "name": "stdout",
     "output_type": "stream",
     "text": [
      "[1, 2, '23', 'string', 'Do not get sad ;p', 'string', 'list', 'tuple', (3+2j)]\n"
     ]
    }
   ],
   "source": [
    "x.pop(5)\n",
    "print(x)"
   ]
  },
  {
   "cell_type": "code",
   "execution_count": 10,
   "id": "9eb45b86",
   "metadata": {},
   "outputs": [
    {
     "ename": "ValueError",
     "evalue": "list.remove(x): x not in list",
     "output_type": "error",
     "traceback": [
      "\u001b[1;31m---------------------------------------------------------------------------\u001b[0m",
      "\u001b[1;31mValueError\u001b[0m                                Traceback (most recent call last)",
      "\u001b[1;32m~\\AppData\\Local\\Temp/ipykernel_8976/881499656.py\u001b[0m in \u001b[0;36m<module>\u001b[1;34m\u001b[0m\n\u001b[1;32m----> 1\u001b[1;33m \u001b[0mx\u001b[0m\u001b[1;33m.\u001b[0m\u001b[0mremove\u001b[0m\u001b[1;33m(\u001b[0m\u001b[1;36m6\u001b[0m\u001b[1;33m)\u001b[0m\u001b[1;33m\u001b[0m\u001b[1;33m\u001b[0m\u001b[0m\n\u001b[0m\u001b[0;32m      2\u001b[0m \u001b[0mprint\u001b[0m\u001b[1;33m(\u001b[0m\u001b[0mx\u001b[0m\u001b[1;33m)\u001b[0m\u001b[1;33m\u001b[0m\u001b[1;33m\u001b[0m\u001b[0m\n",
      "\u001b[1;31mValueError\u001b[0m: list.remove(x): x not in list"
     ]
    }
   ],
   "source": [
    "x.remove(6)\n",
    "print(x)"
   ]
  },
  {
   "cell_type": "code",
   "execution_count": 11,
   "id": "cb258e9f",
   "metadata": {},
   "outputs": [
    {
     "name": "stdout",
     "output_type": "stream",
     "text": [
      "[1, 2, '23', 'string', 'Do not get sad ;p', 'string', 'tuple', (3+2j)]\n"
     ]
    }
   ],
   "source": [
    "x.remove('list')\n",
    "print(x)"
   ]
  },
  {
   "cell_type": "code",
   "execution_count": 12,
   "id": "a8e547e2",
   "metadata": {},
   "outputs": [
    {
     "name": "stdout",
     "output_type": "stream",
     "text": [
      "[(2+3j), -3, -4, -3.14, 'Shizuka', 'Nobita']\n"
     ]
    }
   ],
   "source": [
    "w = [2+3j, -3,-4,-3.14,'Shizuka','Nobita']\n",
    "print(w)"
   ]
  },
  {
   "cell_type": "code",
   "execution_count": 14,
   "id": "2c40dfa6",
   "metadata": {},
   "outputs": [
    {
     "name": "stdout",
     "output_type": "stream",
     "text": [
      "['Nobita', 'Shizuka', -3.14, -4, -3, (2+3j)]\n"
     ]
    }
   ],
   "source": [
    "w2 = w[::-1]\n",
    "print(w2)"
   ]
  },
  {
   "cell_type": "code",
   "execution_count": 19,
   "id": "90ccae03",
   "metadata": {},
   "outputs": [
    {
     "ename": "NameError",
     "evalue": "name 'reverse' is not defined",
     "output_type": "error",
     "traceback": [
      "\u001b[1;31m---------------------------------------------------------------------------\u001b[0m",
      "\u001b[1;31mNameError\u001b[0m                                 Traceback (most recent call last)",
      "\u001b[1;32m~\\AppData\\Local\\Temp/ipykernel_8976/3401893035.py\u001b[0m in \u001b[0;36m<module>\u001b[1;34m\u001b[0m\n\u001b[1;32m----> 1\u001b[1;33m \u001b[0mw3\u001b[0m \u001b[1;33m=\u001b[0m \u001b[0mreverse\u001b[0m\u001b[1;33m(\u001b[0m\u001b[0mw\u001b[0m\u001b[1;33m)\u001b[0m\u001b[1;33m\u001b[0m\u001b[1;33m\u001b[0m\u001b[0m\n\u001b[0m\u001b[0;32m      2\u001b[0m \u001b[0mprint\u001b[0m\u001b[1;33m(\u001b[0m\u001b[0mw3\u001b[0m\u001b[1;33m)\u001b[0m\u001b[1;33m\u001b[0m\u001b[1;33m\u001b[0m\u001b[0m\n",
      "\u001b[1;31mNameError\u001b[0m: name 'reverse' is not defined"
     ]
    }
   ],
   "source": [
    "w3 = reverse(w)\n",
    "print(w3)"
   ]
  },
  {
   "cell_type": "code",
   "execution_count": 20,
   "id": "d54276b2",
   "metadata": {},
   "outputs": [
    {
     "ename": "SyntaxError",
     "evalue": "invalid syntax (Temp/ipykernel_8976/105045843.py, line 1)",
     "output_type": "error",
     "traceback": [
      "\u001b[1;36m  File \u001b[1;32m\"C:\\Users\\abdur\\AppData\\Local\\Temp/ipykernel_8976/105045843.py\"\u001b[1;36m, line \u001b[1;32m1\u001b[0m\n\u001b[1;33m    print('My name's Your name')\u001b[0m\n\u001b[1;37m                   ^\u001b[0m\n\u001b[1;31mSyntaxError\u001b[0m\u001b[1;31m:\u001b[0m invalid syntax\n"
     ]
    }
   ],
   "source": [
    "print('My name's Your name')"
   ]
  },
  {
   "cell_type": "code",
   "execution_count": 21,
   "id": "babd45aa",
   "metadata": {},
   "outputs": [
    {
     "name": "stdout",
     "output_type": "stream",
     "text": [
      "['Nobita', 'Shizuka', -3.14, -4, -3, (2+3j)]\n"
     ]
    }
   ],
   "source": [
    "print(w)"
   ]
  },
  {
   "cell_type": "code",
   "execution_count": 24,
   "id": "770a0d53",
   "metadata": {},
   "outputs": [],
   "source": [
    "w = w[::-1]"
   ]
  },
  {
   "cell_type": "code",
   "execution_count": 25,
   "id": "4566a859",
   "metadata": {},
   "outputs": [
    {
     "name": "stdout",
     "output_type": "stream",
     "text": [
      "[(2+3j), -3, -4, -3.14, 'Shizuka', 'Nobita']\n"
     ]
    }
   ],
   "source": [
    "print(w)"
   ]
  },
  {
   "cell_type": "code",
   "execution_count": 28,
   "id": "04d69a7b",
   "metadata": {},
   "outputs": [
    {
     "data": {
      "text/plain": [
       "[-3.14, 'Shizuka', 'Nobita']"
      ]
     },
     "execution_count": 28,
     "metadata": {},
     "output_type": "execute_result"
    }
   ],
   "source": [
    "w[-3:]"
   ]
  },
  {
   "cell_type": "code",
   "execution_count": 29,
   "id": "c1e3abdd",
   "metadata": {},
   "outputs": [
    {
     "data": {
      "text/plain": [
       "[(2+3j), -3, -4, -3.14, 'Shizuka', 'Nobita']"
      ]
     },
     "execution_count": 29,
     "metadata": {},
     "output_type": "execute_result"
    }
   ],
   "source": [
    "w"
   ]
  },
  {
   "cell_type": "code",
   "execution_count": 30,
   "id": "973ff513",
   "metadata": {},
   "outputs": [
    {
     "data": {
      "text/plain": [
       "['Nobita', 'Shizuka', -3.14, -4, -3, (2+3j)]"
      ]
     },
     "execution_count": 30,
     "metadata": {},
     "output_type": "execute_result"
    }
   ],
   "source": [
    "w[::-1]"
   ]
  },
  {
   "cell_type": "code",
   "execution_count": 31,
   "id": "15783bbb",
   "metadata": {},
   "outputs": [
    {
     "data": {
      "text/plain": [
       "[-3.14, 'Shizuka', 'Nobita']"
      ]
     },
     "execution_count": 31,
     "metadata": {},
     "output_type": "execute_result"
    }
   ],
   "source": [
    "w[-3:]"
   ]
  },
  {
   "cell_type": "code",
   "execution_count": null,
   "id": "29898e44",
   "metadata": {},
   "outputs": [],
   "source": []
  },
  {
   "cell_type": "code",
   "execution_count": 32,
   "id": "578184b5",
   "metadata": {},
   "outputs": [
    {
     "name": "stdout",
     "output_type": "stream",
     "text": [
      "[(2+3j), -3, -4, -3.14, 'Shizuka', 'Nobita']\n",
      "['Nobita', 'Shizuka', -3.14, -4, -3, (2+3j)]\n",
      "[-4, -3, (2+3j)]\n"
     ]
    }
   ],
   "source": [
    "w = [2+3j, -3,-4,-3.14,'Shizuka','Nobita']\n",
    "print(w)\n",
    "w2 = w[::-1]\n",
    "print(w2)\n",
    "print(w2[-3:])"
   ]
  },
  {
   "cell_type": "code",
   "execution_count": null,
   "id": "3ee175f0",
   "metadata": {},
   "outputs": [],
   "source": []
  }
 ],
 "metadata": {
  "kernelspec": {
   "display_name": "Python 3 (ipykernel)",
   "language": "python",
   "name": "python3"
  },
  "language_info": {
   "codemirror_mode": {
    "name": "ipython",
    "version": 3
   },
   "file_extension": ".py",
   "mimetype": "text/x-python",
   "name": "python",
   "nbconvert_exporter": "python",
   "pygments_lexer": "ipython3",
   "version": "3.9.7"
  }
 },
 "nbformat": 4,
 "nbformat_minor": 5
}
