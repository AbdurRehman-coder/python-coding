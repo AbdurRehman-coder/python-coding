{
 "cells": [
  {
   "cell_type": "markdown",
   "id": "d46084b8",
   "metadata": {},
   "source": [
    "## Iterable\n",
    "\n",
    "The term **iterable** means you can 'iterate' over the objects."
   ]
  },
  {
   "cell_type": "markdown",
   "id": "cc18351c",
   "metadata": {},
   "source": [
    "#### For Loops [List]"
   ]
  },
  {
   "cell_type": "code",
   "execution_count": 3,
   "id": "2fdc0c9b",
   "metadata": {},
   "outputs": [
    {
     "name": "stdout",
     "output_type": "stream",
     "text": [
      "3\n",
      "2\n",
      "1\n",
      "6\n",
      "9\n"
     ]
    }
   ],
   "source": [
    "myList = [3,2,1,6,9]\n",
    "for item in myList:\n",
    "    print(item)"
   ]
  },
  {
   "cell_type": "markdown",
   "id": "be199907",
   "metadata": {},
   "source": [
    "**Unpacking of List**"
   ]
  },
  {
   "cell_type": "code",
   "execution_count": 10,
   "id": "f664078f",
   "metadata": {},
   "outputs": [
    {
     "name": "stdout",
     "output_type": "stream",
     "text": [
      "Second values:  22\n",
      "Second values:  23\n",
      "Second values:  Hi\n"
     ]
    }
   ],
   "source": [
    "list_of_list = [[34,22,1], [11,23,5], ['Hy', \"Hi\", 'Hey']]\n",
    "for first,second,third in list_of_list:\n",
    "    print('Second values: ', second)"
   ]
  },
  {
   "cell_type": "code",
   "execution_count": 11,
   "id": "1fb715a5",
   "metadata": {},
   "outputs": [
    {
     "name": "stdout",
     "output_type": "stream",
     "text": [
      "1\n",
      "2\n",
      "3\n",
      "5\n",
      "66\n",
      "7\n"
     ]
    }
   ],
   "source": [
    "my_tuple = (1,2,3,5,66,7)\n",
    "for tup_item in my_tuple:\n",
    "    print(tup_item)"
   ]
  },
  {
   "cell_type": "code",
   "execution_count": 15,
   "id": "d3e56421",
   "metadata": {},
   "outputs": [
    {
     "name": "stdout",
     "output_type": "stream",
     "text": [
      "23\n",
      "Hello\n",
      "2.3\n"
     ]
    }
   ],
   "source": [
    "tup_unpick = ((23,44), ('Hello', 'Hola'), (2.3, 77.09))\n",
    "\n",
    "for first, second in tup_unpick:\n",
    "    print(first)\n",
    "              "
   ]
  },
  {
   "cell_type": "markdown",
   "id": "846fb6c2",
   "metadata": {},
   "source": [
    "#### Iteration Over String"
   ]
  },
  {
   "cell_type": "code",
   "execution_count": 21,
   "id": "139845fb",
   "metadata": {},
   "outputs": [
    {
     "name": "stdout",
     "output_type": "stream",
     "text": [
      "Canal Town, Dobi gard"
     ]
    }
   ],
   "source": [
    "address = 'Canal Town, Dobi gard'\n",
    "\n",
    "for add in address:\n",
    "    print(add, end=\"\" )"
   ]
  },
  {
   "cell_type": "markdown",
   "id": "674a705c",
   "metadata": {},
   "source": [
    "#### for through dictionary"
   ]
  },
  {
   "cell_type": "code",
   "execution_count": 29,
   "id": "eb3e6e27",
   "metadata": {},
   "outputs": [
    {
     "name": "stdout",
     "output_type": "stream",
     "text": [
      "1\n",
      "34\n",
      "90\n"
     ]
    }
   ],
   "source": [
    "my_dictt = {'k1' : 1, 'k2': 34, 'k3': 90}\n",
    "# my_dictt.items() return every key:value pair in a tuple\n",
    "for item in my_dictt.values():\n",
    "    print(item)\n",
    "    print"
   ]
  },
  {
   "cell_type": "code",
   "execution_count": null,
   "id": "53e57e92",
   "metadata": {},
   "outputs": [],
   "source": []
  }
 ],
 "metadata": {
  "kernelspec": {
   "display_name": "Python 3 (ipykernel)",
   "language": "python",
   "name": "python3"
  },
  "language_info": {
   "codemirror_mode": {
    "name": "ipython",
    "version": 3
   },
   "file_extension": ".py",
   "mimetype": "text/x-python",
   "name": "python",
   "nbconvert_exporter": "python",
   "pygments_lexer": "ipython3",
   "version": "3.9.7"
  }
 },
 "nbformat": 4,
 "nbformat_minor": 5
}
